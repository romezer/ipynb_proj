{
 "cells": [
  {
   "cell_type": "code",
   "execution_count": 1,
   "metadata": {},
   "outputs": [],
   "source": [
    "# for data manipulation and analysis\n",
    "import pandas as pd;\n",
    "\n",
    "# for numerical computing\n",
    "import numpy as np\n",
    "\n",
    "# for statistical analysis\n",
    "from scipy import stats\n",
    "\n",
    "# for splitting into train and test datasets\n",
    "from sklearn.model_selection import train_test_split \n",
    "\n",
    "# for modelling\n",
    "from xgboost.sklearn import XGBClassifier\n",
    "from sklearn.ensemble import RandomForestClassifier\n",
    "\n",
    "# for balancing dataset by oversampling\n",
    "from imblearn.over_sampling import SMOTE, ADASYN\n",
    "\n",
    "# for performance metrics\n",
    "from sklearn.metrics import accuracy_score, precision_recall_fscore_support, precision_recall_curve\n",
    "from sklearn.metrics import auc, roc_curve, precision_score, recall_score, f1_score\n",
    "from sklearn.metrics import confusion_matrix, classification_report, average_precision_score\n",
    "\n",
    "# for displaying plots in the notebook\n",
    "%matplotlib inline \n",
    "\n",
    "# for data visualization\n",
    "import matplotlib.pyplot as plt\n",
    "import seaborn as sns"
   ]
  },
  {
   "cell_type": "markdown",
   "metadata": {},
   "source": [
    "# QUESTION 2"
   ]
  },
  {
   "cell_type": "markdown",
   "metadata": {},
   "source": [
    "# Data Loading"
   ]
  },
  {
   "cell_type": "markdown",
   "metadata": {},
   "source": [
    "## I)"
   ]
  },
  {
   "cell_type": "code",
   "execution_count": 2,
   "metadata": {},
   "outputs": [
    {
     "data": {
      "text/plain": [
       "(17898, 9)"
      ]
     },
     "execution_count": 2,
     "metadata": {},
     "output_type": "execute_result"
    }
   ],
   "source": [
    "data = pd.read_csv(\"pulsar_stars.csv\");\n",
    "data.shape"
   ]
  },
  {
   "cell_type": "code",
   "execution_count": 3,
   "metadata": {},
   "outputs": [
    {
     "data": {
      "text/html": [
       "<div>\n",
       "<style scoped>\n",
       "    .dataframe tbody tr th:only-of-type {\n",
       "        vertical-align: middle;\n",
       "    }\n",
       "\n",
       "    .dataframe tbody tr th {\n",
       "        vertical-align: top;\n",
       "    }\n",
       "\n",
       "    .dataframe thead th {\n",
       "        text-align: right;\n",
       "    }\n",
       "</style>\n",
       "<table border=\"1\" class=\"dataframe\">\n",
       "  <thead>\n",
       "    <tr style=\"text-align: right;\">\n",
       "      <th></th>\n",
       "      <th>Mean of the integrated profile</th>\n",
       "      <th>Standard deviation of the integrated profile</th>\n",
       "      <th>Excess kurtosis of the integrated profile</th>\n",
       "      <th>Skewness of the integrated profile</th>\n",
       "      <th>Mean of the DM-SNR curve</th>\n",
       "      <th>Standard deviation of the DM-SNR curve</th>\n",
       "      <th>Excess kurtosis of the DM-SNR curve</th>\n",
       "      <th>Skewness of the DM-SNR curve</th>\n",
       "      <th>target_class</th>\n",
       "    </tr>\n",
       "  </thead>\n",
       "  <tbody>\n",
       "    <tr>\n",
       "      <th>0</th>\n",
       "      <td>140.562500</td>\n",
       "      <td>55.683782</td>\n",
       "      <td>-0.234571</td>\n",
       "      <td>-0.699648</td>\n",
       "      <td>3.199833</td>\n",
       "      <td>19.110426</td>\n",
       "      <td>7.975532</td>\n",
       "      <td>74.242225</td>\n",
       "      <td>0</td>\n",
       "    </tr>\n",
       "    <tr>\n",
       "      <th>1</th>\n",
       "      <td>102.507812</td>\n",
       "      <td>58.882430</td>\n",
       "      <td>0.465318</td>\n",
       "      <td>-0.515088</td>\n",
       "      <td>1.677258</td>\n",
       "      <td>14.860146</td>\n",
       "      <td>10.576487</td>\n",
       "      <td>127.393580</td>\n",
       "      <td>0</td>\n",
       "    </tr>\n",
       "    <tr>\n",
       "      <th>2</th>\n",
       "      <td>103.015625</td>\n",
       "      <td>39.341649</td>\n",
       "      <td>0.323328</td>\n",
       "      <td>1.051164</td>\n",
       "      <td>3.121237</td>\n",
       "      <td>21.744669</td>\n",
       "      <td>7.735822</td>\n",
       "      <td>63.171909</td>\n",
       "      <td>0</td>\n",
       "    </tr>\n",
       "    <tr>\n",
       "      <th>3</th>\n",
       "      <td>136.750000</td>\n",
       "      <td>57.178449</td>\n",
       "      <td>-0.068415</td>\n",
       "      <td>-0.636238</td>\n",
       "      <td>3.642977</td>\n",
       "      <td>20.959280</td>\n",
       "      <td>6.896499</td>\n",
       "      <td>53.593661</td>\n",
       "      <td>0</td>\n",
       "    </tr>\n",
       "    <tr>\n",
       "      <th>4</th>\n",
       "      <td>88.726562</td>\n",
       "      <td>40.672225</td>\n",
       "      <td>0.600866</td>\n",
       "      <td>1.123492</td>\n",
       "      <td>1.178930</td>\n",
       "      <td>11.468720</td>\n",
       "      <td>14.269573</td>\n",
       "      <td>252.567306</td>\n",
       "      <td>0</td>\n",
       "    </tr>\n",
       "  </tbody>\n",
       "</table>\n",
       "</div>"
      ],
      "text/plain": [
       "    Mean of the integrated profile  \\\n",
       "0                       140.562500   \n",
       "1                       102.507812   \n",
       "2                       103.015625   \n",
       "3                       136.750000   \n",
       "4                        88.726562   \n",
       "\n",
       "    Standard deviation of the integrated profile  \\\n",
       "0                                      55.683782   \n",
       "1                                      58.882430   \n",
       "2                                      39.341649   \n",
       "3                                      57.178449   \n",
       "4                                      40.672225   \n",
       "\n",
       "    Excess kurtosis of the integrated profile  \\\n",
       "0                                   -0.234571   \n",
       "1                                    0.465318   \n",
       "2                                    0.323328   \n",
       "3                                   -0.068415   \n",
       "4                                    0.600866   \n",
       "\n",
       "    Skewness of the integrated profile   Mean of the DM-SNR curve  \\\n",
       "0                            -0.699648                   3.199833   \n",
       "1                            -0.515088                   1.677258   \n",
       "2                             1.051164                   3.121237   \n",
       "3                            -0.636238                   3.642977   \n",
       "4                             1.123492                   1.178930   \n",
       "\n",
       "    Standard deviation of the DM-SNR curve  \\\n",
       "0                                19.110426   \n",
       "1                                14.860146   \n",
       "2                                21.744669   \n",
       "3                                20.959280   \n",
       "4                                11.468720   \n",
       "\n",
       "    Excess kurtosis of the DM-SNR curve   Skewness of the DM-SNR curve  \\\n",
       "0                              7.975532                      74.242225   \n",
       "1                             10.576487                     127.393580   \n",
       "2                              7.735822                      63.171909   \n",
       "3                              6.896499                      53.593661   \n",
       "4                             14.269573                     252.567306   \n",
       "\n",
       "   target_class  \n",
       "0             0  \n",
       "1             0  \n",
       "2             0  \n",
       "3             0  \n",
       "4             0  "
      ]
     },
     "execution_count": 3,
     "metadata": {},
     "output_type": "execute_result"
    }
   ],
   "source": [
    "data.head()"
   ]
  },
  {
   "cell_type": "code",
   "execution_count": 4,
   "metadata": {},
   "outputs": [
    {
     "data": {
      "text/html": [
       "<div>\n",
       "<style scoped>\n",
       "    .dataframe tbody tr th:only-of-type {\n",
       "        vertical-align: middle;\n",
       "    }\n",
       "\n",
       "    .dataframe tbody tr th {\n",
       "        vertical-align: top;\n",
       "    }\n",
       "\n",
       "    .dataframe thead th {\n",
       "        text-align: right;\n",
       "    }\n",
       "</style>\n",
       "<table border=\"1\" class=\"dataframe\">\n",
       "  <thead>\n",
       "    <tr style=\"text-align: right;\">\n",
       "      <th></th>\n",
       "      <th>Mean of the integrated profile</th>\n",
       "      <th>Standard deviation of the integrated profile</th>\n",
       "      <th>Excess kurtosis of the integrated profile</th>\n",
       "      <th>Skewness of the integrated profile</th>\n",
       "      <th>Mean of the DM-SNR curve</th>\n",
       "      <th>Standard deviation of the DM-SNR curve</th>\n",
       "      <th>Excess kurtosis of the DM-SNR curve</th>\n",
       "      <th>Skewness of the DM-SNR curve</th>\n",
       "      <th>target_class</th>\n",
       "    </tr>\n",
       "  </thead>\n",
       "  <tbody>\n",
       "    <tr>\n",
       "      <th>0</th>\n",
       "      <td>140.562500</td>\n",
       "      <td>55.683782</td>\n",
       "      <td>-0.234571</td>\n",
       "      <td>-0.699648</td>\n",
       "      <td>3.199833</td>\n",
       "      <td>19.110426</td>\n",
       "      <td>7.975532</td>\n",
       "      <td>74.242225</td>\n",
       "      <td>0</td>\n",
       "    </tr>\n",
       "    <tr>\n",
       "      <th>1</th>\n",
       "      <td>102.507812</td>\n",
       "      <td>58.882430</td>\n",
       "      <td>0.465318</td>\n",
       "      <td>-0.515088</td>\n",
       "      <td>1.677258</td>\n",
       "      <td>14.860146</td>\n",
       "      <td>10.576487</td>\n",
       "      <td>127.393580</td>\n",
       "      <td>0</td>\n",
       "    </tr>\n",
       "    <tr>\n",
       "      <th>2</th>\n",
       "      <td>103.015625</td>\n",
       "      <td>39.341649</td>\n",
       "      <td>0.323328</td>\n",
       "      <td>1.051164</td>\n",
       "      <td>3.121237</td>\n",
       "      <td>21.744669</td>\n",
       "      <td>7.735822</td>\n",
       "      <td>63.171909</td>\n",
       "      <td>0</td>\n",
       "    </tr>\n",
       "    <tr>\n",
       "      <th>3</th>\n",
       "      <td>136.750000</td>\n",
       "      <td>57.178449</td>\n",
       "      <td>-0.068415</td>\n",
       "      <td>-0.636238</td>\n",
       "      <td>3.642977</td>\n",
       "      <td>20.959280</td>\n",
       "      <td>6.896499</td>\n",
       "      <td>53.593661</td>\n",
       "      <td>0</td>\n",
       "    </tr>\n",
       "    <tr>\n",
       "      <th>4</th>\n",
       "      <td>88.726562</td>\n",
       "      <td>40.672225</td>\n",
       "      <td>0.600866</td>\n",
       "      <td>1.123492</td>\n",
       "      <td>1.178930</td>\n",
       "      <td>11.468720</td>\n",
       "      <td>14.269573</td>\n",
       "      <td>252.567306</td>\n",
       "      <td>0</td>\n",
       "    </tr>\n",
       "  </tbody>\n",
       "</table>\n",
       "</div>"
      ],
      "text/plain": [
       "    Mean of the integrated profile  \\\n",
       "0                       140.562500   \n",
       "1                       102.507812   \n",
       "2                       103.015625   \n",
       "3                       136.750000   \n",
       "4                        88.726562   \n",
       "\n",
       "    Standard deviation of the integrated profile  \\\n",
       "0                                      55.683782   \n",
       "1                                      58.882430   \n",
       "2                                      39.341649   \n",
       "3                                      57.178449   \n",
       "4                                      40.672225   \n",
       "\n",
       "    Excess kurtosis of the integrated profile  \\\n",
       "0                                   -0.234571   \n",
       "1                                    0.465318   \n",
       "2                                    0.323328   \n",
       "3                                   -0.068415   \n",
       "4                                    0.600866   \n",
       "\n",
       "    Skewness of the integrated profile   Mean of the DM-SNR curve  \\\n",
       "0                            -0.699648                   3.199833   \n",
       "1                            -0.515088                   1.677258   \n",
       "2                             1.051164                   3.121237   \n",
       "3                            -0.636238                   3.642977   \n",
       "4                             1.123492                   1.178930   \n",
       "\n",
       "    Standard deviation of the DM-SNR curve  \\\n",
       "0                                19.110426   \n",
       "1                                14.860146   \n",
       "2                                21.744669   \n",
       "3                                20.959280   \n",
       "4                                11.468720   \n",
       "\n",
       "    Excess kurtosis of the DM-SNR curve   Skewness of the DM-SNR curve  \\\n",
       "0                              7.975532                      74.242225   \n",
       "1                             10.576487                     127.393580   \n",
       "2                              7.735822                      63.171909   \n",
       "3                              6.896499                      53.593661   \n",
       "4                             14.269573                     252.567306   \n",
       "\n",
       "   target_class  \n",
       "0             0  \n",
       "1             0  \n",
       "2             0  \n",
       "3             0  \n",
       "4             0  "
      ]
     },
     "execution_count": 4,
     "metadata": {},
     "output_type": "execute_result"
    }
   ],
   "source": [
    "data.head()"
   ]
  },
  {
   "cell_type": "code",
   "execution_count": 5,
   "metadata": {},
   "outputs": [
    {
     "data": {
      "text/plain": [
       " Mean of the integrated profile                  0\n",
       " Standard deviation of the integrated profile    0\n",
       " Excess kurtosis of the integrated profile       0\n",
       " Skewness of the integrated profile              0\n",
       " Mean of the DM-SNR curve                        0\n",
       " Standard deviation of the DM-SNR curve          0\n",
       " Excess kurtosis of the DM-SNR curve             0\n",
       " Skewness of the DM-SNR curve                    0\n",
       "target_class                                     0\n",
       "dtype: int64"
      ]
     },
     "execution_count": 5,
     "metadata": {},
     "output_type": "execute_result"
    }
   ],
   "source": [
    "# check if there are null values\n",
    "data.isnull().sum()"
   ]
  },
  {
   "cell_type": "code",
   "execution_count": 6,
   "metadata": {},
   "outputs": [
    {
     "name": "stdout",
     "output_type": "stream",
     "text": [
      "Class 0: 16259\n",
      "Class 1: 1639\n",
      "Percentage: 9.16 % from target is class 1\n"
     ]
    },
    {
     "data": {
      "image/png": "[encoded data removed]",
      "text/plain": [
       "<Figure size 432x288 with 1 Axes>"
      ]
     },
     "metadata": {
      "needs_background": "light"
     },
     "output_type": "display_data"
    }
   ],
   "source": [
    "target_class = data.target_class.value_counts()\n",
    "print('Class 0:', target_class[0])\n",
    "print('Class 1:', target_class[1])\n",
    "print('Percentage:', round(100 * target_class[1] / (target_class[0] + target_class[1]), 2), '% from target is class 1')\n",
    "\n",
    "target_class.plot(kind='bar', title='Target Class');"
   ]
  },
  {
   "cell_type": "markdown",
   "metadata": {},
   "source": [
    "# i"
   ]
  },
  {
   "cell_type": "code",
   "execution_count": 7,
   "metadata": {},
   "outputs": [
    {
     "name": "stdout",
     "output_type": "stream",
     "text": [
      "Shape:  (17898, 9)\n"
     ]
    }
   ],
   "source": [
    "print('Shape: ',data.shape)"
   ]
  },
  {
   "cell_type": "code",
   "execution_count": 8,
   "metadata": {},
   "outputs": [],
   "source": [
    "# Class count\n",
    "count_class_0, count_class_1 = data.target_class.value_counts()\n",
    "\n",
    "# Divide by class\n",
    "df_class_0 = data[data['target_class'] == 0]\n",
    "df_class_1 = data[data['target_class'] == 1]"
   ]
  },
  {
   "cell_type": "code",
   "execution_count": 9,
   "metadata": {},
   "outputs": [
    {
     "data": {
      "text/plain": [
       "16259"
      ]
     },
     "execution_count": 9,
     "metadata": {},
     "output_type": "execute_result"
    }
   ],
   "source": [
    "df_class_0.shape[0]"
   ]
  },
  {
   "cell_type": "code",
   "execution_count": 10,
   "metadata": {},
   "outputs": [
    {
     "data": {
      "text/plain": [
       "1639"
      ]
     },
     "execution_count": 10,
     "metadata": {},
     "output_type": "execute_result"
    }
   ],
   "source": [
    "df_class_1.shape[0]"
   ]
  },
  {
   "cell_type": "code",
   "execution_count": 11,
   "metadata": {},
   "outputs": [
    {
     "name": "stdout",
     "output_type": "stream",
     "text": [
      "\n",
      "Columns:  [' Mean of the integrated profile'\n",
      " ' Standard deviation of the integrated profile'\n",
      " ' Excess kurtosis of the integrated profile'\n",
      " ' Skewness of the integrated profile' ' Mean of the DM-SNR curve'\n",
      " ' Standard deviation of the DM-SNR curve'\n",
      " ' Excess kurtosis of the DM-SNR curve' ' Skewness of the DM-SNR curve'\n",
      " 'target_class']\n"
     ]
    }
   ],
   "source": [
    "print('\\nColumns: ',data.columns.values)"
   ]
  },
  {
   "cell_type": "code",
   "execution_count": 12,
   "metadata": {},
   "outputs": [
    {
     "name": "stdout",
     "output_type": "stream",
     "text": [
      "Index([' Mean of the integrated profile',\n",
      "       ' Standard deviation of the integrated profile',\n",
      "       ' Excess kurtosis of the integrated profile',\n",
      "       ' Skewness of the integrated profile', ' Mean of the DM-SNR curve',\n",
      "       ' Standard deviation of the DM-SNR curve',\n",
      "       ' Excess kurtosis of the DM-SNR curve',\n",
      "       ' Skewness of the DM-SNR curve'],\n",
      "      dtype='object')\n",
      "0    0\n",
      "1    0\n",
      "2    0\n",
      "3    0\n",
      "4    0\n",
      "Name: target_class, dtype: int64\n"
     ]
    }
   ],
   "source": [
    "y = data.iloc[:,8]\n",
    "X = data.iloc[:,0:8]\n",
    "\n",
    "print(X.columns)\n",
    "print(y.head())"
   ]
  },
  {
   "cell_type": "code",
   "execution_count": 13,
   "metadata": {},
   "outputs": [
    {
     "data": {
      "text/plain": [
       "(16108, 8)"
      ]
     },
     "execution_count": 13,
     "metadata": {},
     "output_type": "execute_result"
    }
   ],
   "source": [
    "X_train, X_test, y_train, y_test =   train_test_split(X, y, test_size = 0.1)\n",
    "\n",
    "X_train.shape"
   ]
  },
  {
   "cell_type": "code",
   "execution_count": 14,
   "metadata": {},
   "outputs": [
    {
     "data": {
      "text/plain": [
       "0    14646\n",
       "1     1462\n",
       "Name: target_class, dtype: int64"
      ]
     },
     "execution_count": 14,
     "metadata": {},
     "output_type": "execute_result"
    }
   ],
   "source": [
    "y_train.value_counts()"
   ]
  },
  {
   "cell_type": "markdown",
   "metadata": {},
   "source": [
    "# ii + iii + iv"
   ]
  },
  {
   "cell_type": "markdown",
   "metadata": {},
   "source": [
    "# (1) Random under-sampling "
   ]
  },
  {
   "cell_type": "markdown",
   "metadata": {},
   "source": [
    "Randomly remove samples from the majority class, with or without replacement.\n",
    "This is one of the earliest techniques used to alleviate imbalance in the dataset, however, it may increase the variance of the classifier and may potentially discard useful or important samples."
   ]
  },
  {
   "cell_type": "code",
   "execution_count": 15,
   "metadata": {},
   "outputs": [
    {
     "name": "stdout",
     "output_type": "stream",
     "text": [
      "Random under-sampling:\n",
      "1    1639\n",
      "0    1639\n",
      "Name: target_class, dtype: int64\n"
     ]
    },
    {
     "data": {
      "image/png": "[encoded data removed]",
      "text/plain": [
       "<Figure size 432x288 with 1 Axes>"
      ]
     },
     "metadata": {
      "needs_background": "light"
     },
     "output_type": "display_data"
    }
   ],
   "source": [
    "df_class_0_under = df_class_0.sample(count_class_1) # change size of class 0 to be equal to size of class 1\n",
    "df_test_under = pd.concat([df_class_0_under, df_class_1], axis=0)\n",
    "\n",
    "print('Random under-sampling:')\n",
    "print(df_test_under.target_class.value_counts())\n",
    "\n",
    "df_test_under.target_class.value_counts().plot(kind='bar', title='Target Class After Random Under-Sampling');"
   ]
  },
  {
   "cell_type": "code",
   "execution_count": 16,
   "metadata": {},
   "outputs": [
    {
     "name": "stdout",
     "output_type": "stream",
     "text": [
      "(16108, 8)\n",
      "(3278, 8)\n"
     ]
    }
   ],
   "source": [
    "y_under = df_test_under.iloc[:,8]\n",
    "X_under = df_test_under.iloc[:,0:8]\n",
    "\n",
    "columns = X_train.columns\n",
    "X_under = pd.DataFrame(data = X_under, columns = columns)\n",
    "\n",
    "print(X_train.shape)\n",
    "print(X_under.shape)"
   ]
  },
  {
   "cell_type": "code",
   "execution_count": 17,
   "metadata": {},
   "outputs": [
    {
     "name": "stdout",
     "output_type": "stream",
     "text": [
      "With Random Under-Sampling: \n",
      "\n",
      "RF - Accuracy -  0.9731843575418995\n",
      "XGBoost - Accuracy -  0.9625698324022346\n",
      "RF:\n",
      " [[1565   48]\n",
      " [   0  177]]\n",
      "XGBoost:\n",
      " [[1560   53]\n",
      " [  14  163]]\n",
      "Random Forest:\n",
      " Precision:  [1.         0.78666667] Recall:  [0.97024179 1.        ]\n",
      "XGBoost:\n",
      " Precision:  [0.99110546 0.75462963] Recall:  [0.96714197 0.92090395]\n"
     ]
    }
   ],
   "source": [
    "# Initialising the models\n",
    "rf_us = RandomForestClassifier(n_estimators=100)\n",
    "xg_us = XGBClassifier()\n",
    "\n",
    "# training the models\n",
    "rf_us1 = rf_us.fit(X_under,y_under)\n",
    "xg_us1 = xg_us.fit(X_under,y_under)\n",
    "\n",
    "print(\"With Random Under-Sampling: \\n\")\n",
    "\n",
    "# Making predictions on the test data\n",
    "y_pred_rf1 = rf_us1.predict(X_test)\n",
    "y_pred_xg1= xg_us1.predict(X_test)\n",
    "\n",
    "print(\"RF - Accuracy - \",accuracy_score(y_test,y_pred_rf1))\n",
    "print(\"XGBoost - Accuracy - \",accuracy_score(y_test,y_pred_xg1))\n",
    "\n",
    "print(\"RF:\\n\",confusion_matrix(y_test,y_pred_rf1))\n",
    "print(\"XGBoost:\\n\",confusion_matrix(y_test,y_pred_xg1))\n",
    "\n",
    "p_rf,r_rf,f_rf,_ = precision_recall_fscore_support(y_test,y_pred_rf1)\n",
    "p_xg,r_xg,f_xg,_ = precision_recall_fscore_support(y_test,y_pred_xg1)\n",
    "\n",
    "print(\"Random Forest:\\n Precision: \",p_rf, \"Recall: \", r_rf)\n",
    "print(\"XGBoost:\\n Precision: \",p_xg, \"Recall: \", r_xg)"
   ]
  },
  {
   "cell_type": "markdown",
   "metadata": {},
   "source": [
    "# (2) Random over-sampling "
   ]
  },
  {
   "cell_type": "markdown",
   "metadata": {},
   "source": [
    "Random Oversampling involves supplementing the training data with multiple copies of some of the minority classes. Oversampling can be done more than once (2x, 3x, 5x, 10x, etc.)\n",
    "This is one of the earliest proposed methods, that is also proven to be robust.\n",
    "Instead of duplicating every sample in the minority class, some of them may be randomly chosen with replacement."
   ]
  },
  {
   "cell_type": "code",
   "execution_count": 18,
   "metadata": {},
   "outputs": [
    {
     "name": "stdout",
     "output_type": "stream",
     "text": [
      "Random over-sampling:\n",
      "1    16259\n",
      "0    16259\n",
      "Name: target_class, dtype: int64\n"
     ]
    },
    {
     "data": {
      "image/png": "[encoded data removed]",
      "text/plain": [
       "<Figure size 432x288 with 1 Axes>"
      ]
     },
     "metadata": {
      "needs_background": "light"
     },
     "output_type": "display_data"
    }
   ],
   "source": [
    "df_class_1_over = df_class_1.sample(count_class_0, replace=True)  # change size of class 1 to be equal to size of class 0\n",
    "df_test_over = pd.concat([df_class_0, df_class_1_over], axis=0)\n",
    "\n",
    "print('Random over-sampling:')\n",
    "print(df_test_over.target_class.value_counts())\n",
    "\n",
    "df_test_over.target_class.value_counts().plot(kind='bar', title='Target Class After Random Over-Sampling');"
   ]
  },
  {
   "cell_type": "code",
   "execution_count": 19,
   "metadata": {},
   "outputs": [
    {
     "name": "stdout",
     "output_type": "stream",
     "text": [
      "(16108, 8)\n",
      "(32518, 8)\n",
      "(array([0, 1]), array([16259, 16259]))\n"
     ]
    }
   ],
   "source": [
    "y_over = df_test_over.iloc[:,8]\n",
    "X_over = df_test_over.iloc[:,0:8]\n",
    "\n",
    "columns = X_train.columns\n",
    "X_over = pd.DataFrame(data = X_over, columns = columns)\n",
    "\n",
    "print(X_train.shape)\n",
    "print(X_over.shape)\n",
    "print(np.unique(y_over, return_counts=True))"
   ]
  },
  {
   "cell_type": "code",
   "execution_count": 20,
   "metadata": {},
   "outputs": [
    {
     "name": "stdout",
     "output_type": "stream",
     "text": [
      "With Random Over-Sampling: \n",
      "\n",
      "RF - Accuracy -  1.0\n",
      "XGBoost - Accuracy -  0.964804469273743\n",
      "RF:\n",
      " [[1613    0]\n",
      " [   0  177]]\n",
      "XGBoost:\n",
      " [[1563   50]\n",
      " [  13  164]]\n",
      "Random Forest:\n",
      " Precision:  [1. 1.] Recall:  [1. 1.]\n",
      "XGBoost:\n",
      " Precision:  [0.99175127 0.76635514] Recall:  [0.96900186 0.92655367]\n"
     ]
    }
   ],
   "source": [
    "# Initialising the models\n",
    "rf_os = RandomForestClassifier(n_estimators=100)\n",
    "xg_os = XGBClassifier()\n",
    "\n",
    "# training the models\n",
    "rf_os1 = rf_os.fit(X_over,y_over)\n",
    "xg_os1 = xg_os.fit(X_over,y_over)\n",
    "\n",
    "print(\"With Random Over-Sampling: \\n\")\n",
    "\n",
    "# Making predictions on the test data\n",
    "y_pred_rf1 = rf_os1.predict(X_test)\n",
    "y_pred_xg1= xg_os1.predict(X_test)\n",
    "\n",
    "print(\"RF - Accuracy - \",accuracy_score(y_test,y_pred_rf1))\n",
    "print(\"XGBoost - Accuracy - \",accuracy_score(y_test,y_pred_xg1))\n",
    "\n",
    "print(\"RF:\\n\",confusion_matrix(y_test,y_pred_rf1))\n",
    "print(\"XGBoost:\\n\",confusion_matrix(y_test,y_pred_xg1))\n",
    "\n",
    "p_rf,r_rf,f_rf,_ = precision_recall_fscore_support(y_test,y_pred_rf1)\n",
    "p_xg,r_xg,f_xg,_ = precision_recall_fscore_support(y_test,y_pred_xg1)\n",
    "\n",
    "print(\"Random Forest:\\n Precision: \",p_rf, \"Recall: \", r_rf)\n",
    "print(\"XGBoost:\\n Precision: \",p_xg, \"Recall: \", r_xg)"
   ]
  },
  {
   "cell_type": "markdown",
   "metadata": {},
   "source": [
    "# (3) SMOTE"
   ]
  },
  {
   "cell_type": "markdown",
   "metadata": {},
   "source": [
    "SMOTE stands for Synthetic Minority Oversampling Technique. This is a statistical technique for increasing the number of cases in your dataset in a balanced way.\n",
    "The module works by generating new instances from existing minority cases that you supply as input.\n",
    "This implementation of SMOTE does not change the number of majority cases.\n",
    "The new instances are not just copies of existing minority cases; instead, the algorithm takes samples of the feature space for each target class and its nearest neighbors, and generates new examples that combine features of the target case with features of its neighbors.\n",
    "This approach increases the features available to each class and makes the samples more general."
   ]
  },
  {
   "cell_type": "code",
   "execution_count": 21,
   "metadata": {},
   "outputs": [
    {
     "name": "stdout",
     "output_type": "stream",
     "text": [
      "(16108, 8)\n",
      "(29292, 8)\n",
      "(array([0, 1]), array([14646, 14646]))\n"
     ]
    }
   ],
   "source": [
    "# Oversampling and balancing using SMOTE\n",
    "sm = SMOTE()\n",
    "X_bal, y_bal = sm.fit_sample(X_train, y_train)\n",
    "\n",
    "columns = X_train.columns\n",
    "X_bal = pd.DataFrame(data = X_bal, columns = columns)\n",
    "\n",
    "print(X_train.shape)\n",
    "print(X_bal.shape)\n",
    "print(np.unique(y_bal, return_counts=True))"
   ]
  },
  {
   "cell_type": "markdown",
   "metadata": {},
   "source": [
    "# Models - Without Smote"
   ]
  },
  {
   "cell_type": "code",
   "execution_count": 22,
   "metadata": {},
   "outputs": [
    {
     "name": "stdout",
     "output_type": "stream",
     "text": [
      "Without Smote: \n",
      "\n",
      "RF - Accuracy -  0.9782122905027933\n",
      "XGBoost - Accuracy -  0.9815642458100559\n",
      "RF:\n",
      " [[1599   14]\n",
      " [  25  152]]\n",
      "XGBoost:\n",
      " [[1601   12]\n",
      " [  21  156]]\n",
      "RF - AUC:  0.9631297263407134\n",
      "XGBoost - AUC:  0.9819825499735553\n",
      "Random Forest:\n",
      " Precision:  [0.98460591 0.91566265] Recall:  [0.99132052 0.85875706]\n",
      "XGBoost:\n",
      " Precision:  [0.98705302 0.92857143] Recall:  [0.99256045 0.88135593]\n"
     ]
    }
   ],
   "source": [
    "# Using Random Forest and XGBoost\n",
    "rf = RandomForestClassifier(n_estimators=100)\n",
    "xg = XGBClassifier()\n",
    "\n",
    "rf1 = rf.fit(X_train,y_train)\n",
    "xg1 = xg.fit(X_train,y_train)\n",
    "\n",
    "print(\"Without Smote: \\n\")\n",
    "\n",
    "y_pred_rf = rf1.predict(X_test)\n",
    "y_pred_xg= xg1.predict(X_test)\n",
    "\n",
    "y_pred_rf_prob = rf1.predict_proba(X_test)\n",
    "y_pred_xg_prob = xg1.predict_proba(X_test)\n",
    "\n",
    "print(\"RF - Accuracy - \",accuracy_score(y_test,y_pred_rf))\n",
    "print(\"XGBoost - Accuracy - \",accuracy_score(y_test,y_pred_xg))\n",
    "\n",
    "print(\"RF:\\n\",confusion_matrix(y_test,y_pred_rf))\n",
    "print(\"XGBoost:\\n\",confusion_matrix(y_test,y_pred_xg))\n",
    "\n",
    "fpr_rf1, tpr_rf1, thresholds = roc_curve(y_test,\n",
    "                                 y_pred_rf_prob[: , 1],\n",
    "                                 pos_label= 1\n",
    "                                 )\n",
    "\n",
    "fpr_xg1, tpr_xg1, thresholds = roc_curve(y_test,\n",
    "                                 y_pred_xg_prob[: , 1],\n",
    "                                 pos_label= 1\n",
    "                                 )\n",
    "\n",
    "print(\"RF - AUC: \",auc(fpr_rf1,tpr_rf1))\n",
    "print(\"XGBoost - AUC: \",auc(fpr_xg1,tpr_xg1))\n",
    "\n",
    "p_rf,r_rf,f_rf,_ = precision_recall_fscore_support(y_test,y_pred_rf)\n",
    "p_xg,r_xg,f_xg,_ = precision_recall_fscore_support(y_test,y_pred_xg)\n",
    "\n",
    "print(\"Random Forest:\\n Precision: \",p_rf, \"Recall: \", r_rf)\n",
    "print(\"XGBoost:\\n Precision: \",p_xg, \"Recall: \", r_xg)"
   ]
  },
  {
   "cell_type": "markdown",
   "metadata": {},
   "source": [
    "# Models - With Smote"
   ]
  },
  {
   "cell_type": "code",
   "execution_count": 23,
   "metadata": {},
   "outputs": [
    {
     "name": "stdout",
     "output_type": "stream",
     "text": [
      "With Smote: \n",
      "\n",
      "RF - Accuracy -  0.9743016759776536\n",
      "XGBoost - Accuracy -  0.9614525139664805\n",
      "RF:\n",
      " [[1586   27]\n",
      " [  19  158]]\n",
      "XGBoost:\n",
      " [[1560   53]\n",
      " [  16  161]]\n",
      "RF - AUC:  0.9803310671416212\n",
      "XGBoost - AUC:  0.9838511949170055\n",
      "Random Forest:\n",
      " Precision:  [0.98816199 0.85405405] Recall:  [0.983261   0.89265537]\n",
      "XGBoost:\n",
      " Precision:  [0.98984772 0.75233645] Recall:  [0.96714197 0.90960452]\n"
     ]
    }
   ],
   "source": [
    "# Initialising the models\n",
    "rf_sm = RandomForestClassifier(n_estimators=100)\n",
    "xg_sm = XGBClassifier()\n",
    "\n",
    "# training the models\n",
    "rf_sm1 = rf_sm.fit(X_bal,y_bal)\n",
    "xg_sm1 = xg_sm.fit(X_bal,y_bal)\n",
    "\n",
    "print(\"With Smote: \\n\")\n",
    "\n",
    "# Making predictions on the test data\n",
    "y_pred_rf1 = rf_sm1.predict(X_test)\n",
    "y_pred_xg1= xg_sm1.predict(X_test)\n",
    "\n",
    "y_pred_rf_prob1 = rf_sm1.predict_proba(X_test)\n",
    "y_pred_xg_prob1 = xg_sm1.predict_proba(X_test)\n",
    "\n",
    "print(\"RF - Accuracy - \",accuracy_score(y_test,y_pred_rf1))\n",
    "print(\"XGBoost - Accuracy - \",accuracy_score(y_test,y_pred_xg1))\n",
    "\n",
    "print(\"RF:\\n\",confusion_matrix(y_test,y_pred_rf1))\n",
    "print(\"XGBoost:\\n\",confusion_matrix(y_test,y_pred_xg1))\n",
    "\n",
    "fpr_rf2, tpr_rf2, thresholds = roc_curve(y_test,\n",
    "                                 y_pred_rf_prob1[: , 1],\n",
    "                                 pos_label= 1\n",
    "                                 )\n",
    "\n",
    "fpr_xg2, tpr_xg2, thresholds = roc_curve(y_test,\n",
    "                                 y_pred_xg_prob1[: , 1],\n",
    "                                 pos_label= 1\n",
    "                                 )\n",
    "\n",
    "print(\"RF - AUC: \",auc(fpr_rf2,tpr_rf2))\n",
    "print(\"XGBoost - AUC: \",auc(fpr_xg2,tpr_xg2))\n",
    "\n",
    "p_rf,r_rf,f_rf,_ = precision_recall_fscore_support(y_test,y_pred_rf1)\n",
    "p_xg,r_xg,f_xg,_ = precision_recall_fscore_support(y_test,y_pred_xg1)\n",
    "\n",
    "print(\"Random Forest:\\n Precision: \",p_rf, \"Recall: \", r_rf)\n",
    "print(\"XGBoost:\\n Precision: \",p_xg, \"Recall: \", r_xg)"
   ]
  },
  {
   "cell_type": "markdown",
   "metadata": {},
   "source": [
    "## As can be seen from the results - results (recall, precision) were improved in both RF & XGBoost (Recall & Precision) after SMOTE!"
   ]
  },
  {
   "cell_type": "code",
   "execution_count": null,
   "metadata": {},
   "outputs": [],
   "source": []
  },
  {
   "cell_type": "markdown",
   "metadata": {},
   "source": [
    "# (4) ADASYN"
   ]
  },
  {
   "cell_type": "markdown",
   "metadata": {},
   "source": [
    "The adaptive synthetic sampling approach, or ADASYN algorithm, builds on the methodology of SMOTE, by shifting the importance of the classification boundary to those minority classes which are difficult.\n",
    "ADASYN uses a weighted distribution for different minority class examples according to their level of difficulty in learning, where more synthetic data is generated for minority class examples that are harder to learn."
   ]
  },
  {
   "cell_type": "markdown",
   "metadata": {},
   "source": [
    "# Models - With ADASYN"
   ]
  },
  {
   "cell_type": "code",
   "execution_count": 24,
   "metadata": {},
   "outputs": [
    {
     "name": "stdout",
     "output_type": "stream",
     "text": [
      "(16108, 8)\n",
      "(29172, 8)\n",
      "(array([0, 1]), array([14646, 14646]))\n"
     ]
    }
   ],
   "source": [
    "# oversampling and balancing dataset with ADASYN\n",
    "ad = ADASYN()\n",
    "X_ad, y_ad = ad.fit_sample(X_train, y_train)\n",
    " \n",
    "X_ad = pd.DataFrame(data = X_ad, columns = X_train.columns)\n",
    "\n",
    "print(X_train.shape)\n",
    "print(X_ad.shape)\n",
    "print(np.unique(y_bal, return_counts=True))"
   ]
  },
  {
   "cell_type": "code",
   "execution_count": 25,
   "metadata": {},
   "outputs": [],
   "source": [
    "# Initialising the models\n",
    "rf_ad = RandomForestClassifier(n_estimators=100)\n",
    "xg_ad = XGBClassifier()\n",
    "\n",
    "# training the models\n",
    "rf_ad1 = rf_ad.fit(X_ad,y_ad)\n",
    "xg_ad1 = xg_ad.fit(X_ad,y_ad)"
   ]
  },
  {
   "cell_type": "code",
   "execution_count": 26,
   "metadata": {},
   "outputs": [
    {
     "name": "stdout",
     "output_type": "stream",
     "text": [
      "With ADASYN:\n",
      "\n",
      "RF - Accuracy -  0.9670391061452513\n",
      "XGBoost - Accuracy -  0.8988826815642458\n",
      "RF:\n",
      " [[1571   42]\n",
      " [  17  160]]\n",
      "XGBoost:\n",
      " [[1441  172]\n",
      " [   9  168]]\n",
      "RF - AUC:  0.9792820340384097\n",
      "XGBoost - AUC:  0.981625283273964\n",
      "Random Forest:\n",
      " Precision:  [0.98929471 0.79207921] Recall:  [0.97396156 0.9039548 ]\n",
      "XGBoost:\n",
      " Precision:  [0.9937931  0.49411765] Recall:  [0.8933664  0.94915254]\n"
     ]
    }
   ],
   "source": [
    "print(\"With ADASYN:\\n\")\n",
    "# Making predictions on the test data\n",
    "y_pred_rf2 = rf_ad1.predict(X_test)\n",
    "y_pred_xg2 = xg_ad1.predict(X_test)\n",
    "\n",
    "y_pred_rf_prob2 = rf_ad1.predict_proba(X_test)\n",
    "y_pred_xg_prob2 = xg_ad1.predict_proba(X_test)\n",
    "\n",
    "print(\"RF - Accuracy - \",accuracy_score(y_test,y_pred_rf2))\n",
    "print(\"XGBoost - Accuracy - \",accuracy_score(y_test,y_pred_xg2))\n",
    "\n",
    "print(\"RF:\\n\",confusion_matrix(y_test,y_pred_rf2))\n",
    "print(\"XGBoost:\\n\",confusion_matrix(y_test,y_pred_xg2))\n",
    "\n",
    "fpr_rf3, tpr_rf3, thresholds = roc_curve(y_test,\n",
    "                                 y_pred_rf_prob2[: , 1],\n",
    "                                 pos_label= 1\n",
    "                                 )\n",
    "\n",
    "fpr_xg3, tpr_xg3, thresholds = roc_curve(y_test,\n",
    "                                 y_pred_xg_prob2[: , 1],\n",
    "                                 pos_label= 1\n",
    "                                 )\n",
    "\n",
    "print(\"RF - AUC: \",auc(fpr_rf3,tpr_rf3))\n",
    "print(\"XGBoost - AUC: \",auc(fpr_xg3,tpr_xg3))\n",
    "\n",
    "p_rf,r_rf,f_rf,_ = precision_recall_fscore_support(y_test,y_pred_rf2)\n",
    "p_xg,r_xg,f_xg,_ = precision_recall_fscore_support(y_test,y_pred_xg2)\n",
    "\n",
    "print(\"Random Forest:\\n Precision: \",p_rf, \"Recall: \", r_rf)\n",
    "print(\"XGBoost:\\n Precision: \",p_xg, \"Recall: \", r_xg)"
   ]
  },
  {
   "cell_type": "markdown",
   "metadata": {},
   "source": [
    "## As can be seen from the results - results were improved in both RF & XGBoost (Recall & Precision) after ADASYN!"
   ]
  },
  {
   "cell_type": "code",
   "execution_count": null,
   "metadata": {},
   "outputs": [],
   "source": []
  },
  {
   "cell_type": "markdown",
   "metadata": {},
   "source": [
    "# (5) Combine Approach (Bonus: up to 5 points)\n",
    "### Over-sampling using SMOTE followed by under-sampling removing the Tomek’s links"
   ]
  },
  {
   "cell_type": "code",
   "execution_count": 27,
   "metadata": {},
   "outputs": [
    {
     "name": "stdout",
     "output_type": "stream",
     "text": [
      "Original dataset shape Counter({0: 16259, 1: 1639})\n",
      "Resampled dataset shape Counter({0: 14507, 1: 14507})\n"
     ]
    }
   ],
   "source": [
    "from collections import Counter\n",
    "from sklearn.datasets import make_classification\n",
    "from imblearn.combine import SMOTETomek\n",
    "\n",
    "print('Original dataset shape %s' % Counter(y))\n",
    "\n",
    "smt = SMOTETomek()\n",
    "X_combine, y_combine = smt.fit_resample(X_train, y_train)\n",
    "print('Resampled dataset shape %s' % Counter(y_combine))"
   ]
  },
  {
   "cell_type": "code",
   "execution_count": 28,
   "metadata": {},
   "outputs": [],
   "source": [
    "X_combine = pd.DataFrame(data = X_combine, columns = X_train.columns)\n",
    "y_combine = pd.DataFrame(data = y_combine)\n",
    "\n",
    "df_combine = pd.concat([X_combine, y_combine], axis=1)"
   ]
  },
  {
   "cell_type": "code",
   "execution_count": 29,
   "metadata": {},
   "outputs": [
    {
     "data": {
      "text/html": [
       "<div>\n",
       "<style scoped>\n",
       "    .dataframe tbody tr th:only-of-type {\n",
       "        vertical-align: middle;\n",
       "    }\n",
       "\n",
       "    .dataframe tbody tr th {\n",
       "        vertical-align: top;\n",
       "    }\n",
       "\n",
       "    .dataframe thead th {\n",
       "        text-align: right;\n",
       "    }\n",
       "</style>\n",
       "<table border=\"1\" class=\"dataframe\">\n",
       "  <thead>\n",
       "    <tr style=\"text-align: right;\">\n",
       "      <th></th>\n",
       "      <th>Mean of the integrated profile</th>\n",
       "      <th>Standard deviation of the integrated profile</th>\n",
       "      <th>Excess kurtosis of the integrated profile</th>\n",
       "      <th>Skewness of the integrated profile</th>\n",
       "      <th>Mean of the DM-SNR curve</th>\n",
       "      <th>Standard deviation of the DM-SNR curve</th>\n",
       "      <th>Excess kurtosis of the DM-SNR curve</th>\n",
       "      <th>Skewness of the DM-SNR curve</th>\n",
       "      <th>0</th>\n",
       "    </tr>\n",
       "  </thead>\n",
       "  <tbody>\n",
       "    <tr>\n",
       "      <th>0</th>\n",
       "      <td>131.382812</td>\n",
       "      <td>47.855270</td>\n",
       "      <td>-0.025672</td>\n",
       "      <td>0.067294</td>\n",
       "      <td>2.235786</td>\n",
       "      <td>14.700338</td>\n",
       "      <td>9.292078</td>\n",
       "      <td>108.866394</td>\n",
       "      <td>0</td>\n",
       "    </tr>\n",
       "    <tr>\n",
       "      <th>1</th>\n",
       "      <td>126.765625</td>\n",
       "      <td>50.602230</td>\n",
       "      <td>0.018513</td>\n",
       "      <td>-0.021403</td>\n",
       "      <td>3.520067</td>\n",
       "      <td>22.312026</td>\n",
       "      <td>7.119706</td>\n",
       "      <td>54.903269</td>\n",
       "      <td>0</td>\n",
       "    </tr>\n",
       "    <tr>\n",
       "      <th>2</th>\n",
       "      <td>118.140625</td>\n",
       "      <td>52.933292</td>\n",
       "      <td>0.300603</td>\n",
       "      <td>-0.249694</td>\n",
       "      <td>14.418896</td>\n",
       "      <td>49.915607</td>\n",
       "      <td>3.357507</td>\n",
       "      <td>9.824089</td>\n",
       "      <td>0</td>\n",
       "    </tr>\n",
       "    <tr>\n",
       "      <th>3</th>\n",
       "      <td>134.328125</td>\n",
       "      <td>42.006902</td>\n",
       "      <td>-0.223974</td>\n",
       "      <td>0.174592</td>\n",
       "      <td>2.209866</td>\n",
       "      <td>15.243517</td>\n",
       "      <td>9.729774</td>\n",
       "      <td>113.742010</td>\n",
       "      <td>0</td>\n",
       "    </tr>\n",
       "    <tr>\n",
       "      <th>4</th>\n",
       "      <td>136.390625</td>\n",
       "      <td>48.509702</td>\n",
       "      <td>0.030031</td>\n",
       "      <td>0.042847</td>\n",
       "      <td>2.959866</td>\n",
       "      <td>20.962701</td>\n",
       "      <td>8.066180</td>\n",
       "      <td>71.096368</td>\n",
       "      <td>0</td>\n",
       "    </tr>\n",
       "  </tbody>\n",
       "</table>\n",
       "</div>"
      ],
      "text/plain": [
       "    Mean of the integrated profile  \\\n",
       "0                       131.382812   \n",
       "1                       126.765625   \n",
       "2                       118.140625   \n",
       "3                       134.328125   \n",
       "4                       136.390625   \n",
       "\n",
       "    Standard deviation of the integrated profile  \\\n",
       "0                                      47.855270   \n",
       "1                                      50.602230   \n",
       "2                                      52.933292   \n",
       "3                                      42.006902   \n",
       "4                                      48.509702   \n",
       "\n",
       "    Excess kurtosis of the integrated profile  \\\n",
       "0                                   -0.025672   \n",
       "1                                    0.018513   \n",
       "2                                    0.300603   \n",
       "3                                   -0.223974   \n",
       "4                                    0.030031   \n",
       "\n",
       "    Skewness of the integrated profile   Mean of the DM-SNR curve  \\\n",
       "0                             0.067294                   2.235786   \n",
       "1                            -0.021403                   3.520067   \n",
       "2                            -0.249694                  14.418896   \n",
       "3                             0.174592                   2.209866   \n",
       "4                             0.042847                   2.959866   \n",
       "\n",
       "    Standard deviation of the DM-SNR curve  \\\n",
       "0                                14.700338   \n",
       "1                                22.312026   \n",
       "2                                49.915607   \n",
       "3                                15.243517   \n",
       "4                                20.962701   \n",
       "\n",
       "    Excess kurtosis of the DM-SNR curve   Skewness of the DM-SNR curve  0  \n",
       "0                              9.292078                     108.866394  0  \n",
       "1                              7.119706                      54.903269  0  \n",
       "2                              3.357507                       9.824089  0  \n",
       "3                              9.729774                     113.742010  0  \n",
       "4                              8.066180                      71.096368  0  "
      ]
     },
     "execution_count": 29,
     "metadata": {},
     "output_type": "execute_result"
    }
   ],
   "source": [
    "df_combine.head()"
   ]
  },
  {
   "cell_type": "code",
   "execution_count": 30,
   "metadata": {},
   "outputs": [],
   "source": [
    "df_combine.rename(columns={0: \"target_class\"}, inplace=True)"
   ]
  },
  {
   "cell_type": "code",
   "execution_count": 31,
   "metadata": {},
   "outputs": [
    {
     "data": {
      "text/html": [
       "<div>\n",
       "<style scoped>\n",
       "    .dataframe tbody tr th:only-of-type {\n",
       "        vertical-align: middle;\n",
       "    }\n",
       "\n",
       "    .dataframe tbody tr th {\n",
       "        vertical-align: top;\n",
       "    }\n",
       "\n",
       "    .dataframe thead th {\n",
       "        text-align: right;\n",
       "    }\n",
       "</style>\n",
       "<table border=\"1\" class=\"dataframe\">\n",
       "  <thead>\n",
       "    <tr style=\"text-align: right;\">\n",
       "      <th></th>\n",
       "      <th>Mean of the integrated profile</th>\n",
       "      <th>Standard deviation of the integrated profile</th>\n",
       "      <th>Excess kurtosis of the integrated profile</th>\n",
       "      <th>Skewness of the integrated profile</th>\n",
       "      <th>Mean of the DM-SNR curve</th>\n",
       "      <th>Standard deviation of the DM-SNR curve</th>\n",
       "      <th>Excess kurtosis of the DM-SNR curve</th>\n",
       "      <th>Skewness of the DM-SNR curve</th>\n",
       "      <th>target_class</th>\n",
       "    </tr>\n",
       "  </thead>\n",
       "  <tbody>\n",
       "    <tr>\n",
       "      <th>0</th>\n",
       "      <td>131.382812</td>\n",
       "      <td>47.855270</td>\n",
       "      <td>-0.025672</td>\n",
       "      <td>0.067294</td>\n",
       "      <td>2.235786</td>\n",
       "      <td>14.700338</td>\n",
       "      <td>9.292078</td>\n",
       "      <td>108.866394</td>\n",
       "      <td>0</td>\n",
       "    </tr>\n",
       "    <tr>\n",
       "      <th>1</th>\n",
       "      <td>126.765625</td>\n",
       "      <td>50.602230</td>\n",
       "      <td>0.018513</td>\n",
       "      <td>-0.021403</td>\n",
       "      <td>3.520067</td>\n",
       "      <td>22.312026</td>\n",
       "      <td>7.119706</td>\n",
       "      <td>54.903269</td>\n",
       "      <td>0</td>\n",
       "    </tr>\n",
       "    <tr>\n",
       "      <th>2</th>\n",
       "      <td>118.140625</td>\n",
       "      <td>52.933292</td>\n",
       "      <td>0.300603</td>\n",
       "      <td>-0.249694</td>\n",
       "      <td>14.418896</td>\n",
       "      <td>49.915607</td>\n",
       "      <td>3.357507</td>\n",
       "      <td>9.824089</td>\n",
       "      <td>0</td>\n",
       "    </tr>\n",
       "    <tr>\n",
       "      <th>3</th>\n",
       "      <td>134.328125</td>\n",
       "      <td>42.006902</td>\n",
       "      <td>-0.223974</td>\n",
       "      <td>0.174592</td>\n",
       "      <td>2.209866</td>\n",
       "      <td>15.243517</td>\n",
       "      <td>9.729774</td>\n",
       "      <td>113.742010</td>\n",
       "      <td>0</td>\n",
       "    </tr>\n",
       "    <tr>\n",
       "      <th>4</th>\n",
       "      <td>136.390625</td>\n",
       "      <td>48.509702</td>\n",
       "      <td>0.030031</td>\n",
       "      <td>0.042847</td>\n",
       "      <td>2.959866</td>\n",
       "      <td>20.962701</td>\n",
       "      <td>8.066180</td>\n",
       "      <td>71.096368</td>\n",
       "      <td>0</td>\n",
       "    </tr>\n",
       "  </tbody>\n",
       "</table>\n",
       "</div>"
      ],
      "text/plain": [
       "    Mean of the integrated profile  \\\n",
       "0                       131.382812   \n",
       "1                       126.765625   \n",
       "2                       118.140625   \n",
       "3                       134.328125   \n",
       "4                       136.390625   \n",
       "\n",
       "    Standard deviation of the integrated profile  \\\n",
       "0                                      47.855270   \n",
       "1                                      50.602230   \n",
       "2                                      52.933292   \n",
       "3                                      42.006902   \n",
       "4                                      48.509702   \n",
       "\n",
       "    Excess kurtosis of the integrated profile  \\\n",
       "0                                   -0.025672   \n",
       "1                                    0.018513   \n",
       "2                                    0.300603   \n",
       "3                                   -0.223974   \n",
       "4                                    0.030031   \n",
       "\n",
       "    Skewness of the integrated profile   Mean of the DM-SNR curve  \\\n",
       "0                             0.067294                   2.235786   \n",
       "1                            -0.021403                   3.520067   \n",
       "2                            -0.249694                  14.418896   \n",
       "3                             0.174592                   2.209866   \n",
       "4                             0.042847                   2.959866   \n",
       "\n",
       "    Standard deviation of the DM-SNR curve  \\\n",
       "0                                14.700338   \n",
       "1                                22.312026   \n",
       "2                                49.915607   \n",
       "3                                15.243517   \n",
       "4                                20.962701   \n",
       "\n",
       "    Excess kurtosis of the DM-SNR curve   Skewness of the DM-SNR curve  \\\n",
       "0                              9.292078                     108.866394   \n",
       "1                              7.119706                      54.903269   \n",
       "2                              3.357507                       9.824089   \n",
       "3                              9.729774                     113.742010   \n",
       "4                              8.066180                      71.096368   \n",
       "\n",
       "   target_class  \n",
       "0             0  \n",
       "1             0  \n",
       "2             0  \n",
       "3             0  \n",
       "4             0  "
      ]
     },
     "execution_count": 31,
     "metadata": {},
     "output_type": "execute_result"
    }
   ],
   "source": [
    "df_combine.head()"
   ]
  },
  {
   "cell_type": "code",
   "execution_count": 32,
   "metadata": {},
   "outputs": [
    {
     "name": "stdout",
     "output_type": "stream",
     "text": [
      "Combine sampling:\n",
      "1    14507\n",
      "0    14507\n",
      "Name: target_class, dtype: int64\n",
      "(16108, 8)\n",
      "(29014, 8)\n"
     ]
    },
    {
     "data": {
      "image/png": "[encoded data removed]",
      "text/plain": [
       "<Figure size 432x288 with 1 Axes>"
      ]
     },
     "metadata": {
      "needs_background": "light"
     },
     "output_type": "display_data"
    }
   ],
   "source": [
    "df_class_0_combine = df_combine[df_combine['target_class'] == 0]\n",
    "df_class_1_combine = df_combine[df_combine['target_class'] == 1]\n",
    "df_test_combine = pd.concat([df_class_0_combine, df_class_1_combine], axis=0)\n",
    "\n",
    "print('Combine sampling:')\n",
    "print(df_test_combine['target_class'].value_counts())\n",
    "\n",
    "df_test_combine['target_class'].value_counts().plot(kind='bar', title='Target Class After Combine Sampling');\n",
    "\n",
    "y_test = df_test_combine.iloc[:,8]\n",
    "X_test = df_test_combine.iloc[:,0:8]\n",
    "\n",
    "columns = X_combine.columns\n",
    "X_combine = pd.DataFrame(data = X_combine, columns = columns)\n",
    "\n",
    "print(X_train.shape)\n",
    "print(X_combine.shape)"
   ]
  },
  {
   "cell_type": "code",
   "execution_count": 33,
   "metadata": {},
   "outputs": [
    {
     "name": "stdout",
     "output_type": "stream",
     "text": [
      "With Combine-Sampling: \n",
      "\n",
      "RF - Accuracy -  1.0\n",
      "XGBoost - Accuracy -  0.9577790032398152\n",
      "RF:\n",
      " [[14507     0]\n",
      " [    0 14507]]\n",
      "XGBoost:\n",
      " [[14193   314]\n",
      " [  911 13596]]\n",
      "Random Forest:\n",
      " Precision:  [1. 1.] Recall:  [1. 1.]\n",
      "XGBoost:\n",
      " Precision:  [0.93968485 0.97742631] Recall:  [0.97835528 0.93720273]\n"
     ]
    }
   ],
   "source": [
    "# Initialising the models\n",
    "rf_co = RandomForestClassifier(n_estimators=100)\n",
    "xg_co = XGBClassifier()\n",
    "\n",
    "# training the models\n",
    "rf_co5 = rf_co.fit(X_combine,y_combine.values.ravel())\n",
    "xg_co5 = xg_co.fit(X_combine,y_combine.values.ravel())\n",
    "\n",
    "print(\"With Combine-Sampling: \\n\")\n",
    "\n",
    "# Making predictions on the test data\n",
    "y_pred_rf5 = rf_co5.predict(X_test)\n",
    "y_pred_xg5= xg_co5.predict(X_test)\n",
    "\n",
    "print(\"RF - Accuracy - \",accuracy_score(y_test,y_pred_rf5))\n",
    "print(\"XGBoost - Accuracy - \",accuracy_score(y_test,y_pred_xg5))\n",
    "\n",
    "print(\"RF:\\n\",confusion_matrix(y_test,y_pred_rf5))\n",
    "print(\"XGBoost:\\n\",confusion_matrix(y_test,y_pred_xg5))\n",
    "\n",
    "p_rf,r_rf,f_rf,_ = precision_recall_fscore_support(y_test,y_pred_rf5)\n",
    "p_xg,r_xg,f_xg,_ = precision_recall_fscore_support(y_test,y_pred_xg5)\n",
    "\n",
    "print(\"Random Forest:\\n Precision: \",p_rf, \"Recall: \", r_rf)\n",
    "print(\"XGBoost:\\n Precision: \",p_xg, \"Recall: \", r_xg)"
   ]
  },
  {
   "cell_type": "markdown",
   "metadata": {},
   "source": [
    "# ROC curves: imbalanced VS smote VS adasyn"
   ]
  },
  {
   "cell_type": "code",
   "execution_count": 34,
   "metadata": {},
   "outputs": [
    {
     "data": {
      "image/png": "[encoded data removed]",
      "text/plain": [
       "<Figure size 1008x1152 with 6 Axes>"
      ]
     },
     "metadata": {
      "needs_background": "light"
     },
     "output_type": "display_data"
    }
   ],
   "source": [
    "fig = plt.figure(figsize=(14,16))   # Create window frame\n",
    "\n",
    "\n",
    "roc = [[\"Imbalanced\", fpr_rf1, tpr_rf1,'rf'],[\"Imbalanced\", fpr_xg1, tpr_xg1,'xg'],[\"SMOTE\", fpr_rf2, tpr_rf2,'rf'],[\"SMOTE\", fpr_xg2, tpr_xg2,'xg'],\n",
    "[\"ADASYN\", fpr_rf3, tpr_rf3,'rf'], [\"ADASYN\", fpr_xg3, tpr_xg3,'xg']]\n",
    "\n",
    "for i in range(6):\n",
    "    #8.1 Connect diagonals\n",
    "    ax = fig.add_subplot(3,2,i+1) \n",
    "    ax.plot([0, 1], [0, 1], ls=\"--\")  # Dashed diagonal line\n",
    "\n",
    "    #8.2 Labels \n",
    "    ax.set_xlabel('False Positive Rate')  # Final plot decorations\n",
    "    ax.set_ylabel('True Positive Rate')\n",
    "    ax.set_title(roc[i][0])\n",
    "\n",
    "    #8.3 Set graph limits\n",
    "    ax.set_xlim([0.0, 1.0])\n",
    "    ax.set_ylim([0.0, 1.0])\n",
    "\n",
    "    #8.4 Plot each graph now\n",
    "    ax.plot(roc[i][1], roc[i][2], label = roc[i][3])\n",
    "\n",
    "    #8.5 Set legend and show plot\n",
    "    ax.legend(loc=\"lower right\")"
   ]
  },
  {
   "cell_type": "markdown",
   "metadata": {},
   "source": [
    "# Precision - Recall curves: imbalanced VS smote VS adasyn"
   ]
  },
  {
   "cell_type": "code",
   "execution_count": 35,
   "metadata": {},
   "outputs": [
    {
     "data": {
      "image/png": "[encoded data removed]",
      "text/plain": [
       "<Figure size 1008x1152 with 6 Axes>"
      ]
     },
     "metadata": {
      "needs_background": "light"
     },
     "output_type": "display_data"
    }
   ],
   "source": [
    "prc = [[\"Imbalanced\", rf1,'rf'],[\"Imbalanced\", xg1,'xg'],[\"SMOTE\", rf_sm1,'rf'],[\"SMOTE\", xg_sm1,'xg'],\n",
    "[\"ADASYN\", rf_ad1,'rf'], [\"ADASYN\", xg_ad1,'xg']]\n",
    "\n",
    "fig = plt.figure(figsize=(14,16))\n",
    "\n",
    "for i in range(6):\n",
    "    ax = fig.add_subplot(3,2,i+1)\n",
    "   \n",
    "    precision, recall, _ = precision_recall_curve(y_test,prc[i][1].predict_proba(X_test)[:,-1])\n",
    "\n",
    "    plt.step(recall, precision, color='b', alpha=0.2,\n",
    "         where='post')\n",
    "    plt.fill_between(recall, precision, step='post', alpha=0.2,\n",
    "                 color='b')\n",
    "\n",
    "    plt.xlabel('Recall')\n",
    "    plt.ylabel('Precision')\n",
    "    plt.ylim([0.0, 1.05])\n",
    "    plt.xlim([0.0, 1.0])\n",
    "    ttl = prc[i][0]+' '+prc[i][2]\n",
    "    plt.title(ttl)"
   ]
  },
  {
   "cell_type": "markdown",
   "metadata": {},
   "source": [
    "# As can be seen in graphs, results were improved after using Smote & ADASYN!"
   ]
  },
  {
   "cell_type": "code",
   "execution_count": null,
   "metadata": {},
   "outputs": [],
   "source": []
  },
  {
   "cell_type": "markdown",
   "metadata": {},
   "source": [
    "# Bonus - 3 Points\n",
    "## Accuracy is no longer a proper measure, since it does not distinguish between the numbers of correctly classified examples of different classes. Hence, it may lead to erroneous conclusions"
   ]
  },
  {
   "cell_type": "code",
   "execution_count": null,
   "metadata": {},
   "outputs": [],
   "source": []
  },
  {
   "cell_type": "markdown",
   "metadata": {},
   "source": [
    "# v"
   ]
  },
  {
   "cell_type": "markdown",
   "metadata": {},
   "source": [
    "The general formula for the F-score is the following:\n",
    "\n",
    "Fβ = ((1+β^2) ⋅ precision ⋅ recall) / ((β^2 ⋅ precision) + recall)\n",
    "\n",
    "where β is a positive real.\n",
    "\n",
    "For the F2 score, β equal to 2.\n",
    "The intuition behind the F2 score is that it weights recall higher than precision.\n",
    "This makes the F2 score more suitable in certain applications where it’s more important to classify correctly as many positive samples as possible, rather than maximizing the number of correct classifications."
   ]
  },
  {
   "cell_type": "markdown",
   "metadata": {},
   "source": [
    "F1 Score: It is a harmonic mean of precision and recall given by\n",
    "F1 = 2 * Precision * Recall / (Precision + Recall)"
   ]
  },
  {
   "cell_type": "markdown",
   "metadata": {},
   "source": [
    "### The conclusion is that F2 score is better for imbalanced data problems compared to F1 score!"
   ]
  },
  {
   "cell_type": "code",
   "execution_count": null,
   "metadata": {},
   "outputs": [],
   "source": []
  },
  {
   "cell_type": "code",
   "execution_count": null,
   "metadata": {},
   "outputs": [],
   "source": []
  },
  {
   "cell_type": "code",
   "execution_count": null,
   "metadata": {},
   "outputs": [],
   "source": []
  },
  {
   "cell_type": "code",
   "execution_count": null,
   "metadata": {},
   "outputs": [],
   "source": []
  },
  {
   "cell_type": "markdown",
   "metadata": {},
   "source": [
    "# QUESTION 3"
   ]
  },
  {
   "cell_type": "code",
   "execution_count": 36,
   "metadata": {},
   "outputs": [],
   "source": [
    "# 3) i, ii Same DB as question 2"
   ]
  },
  {
   "cell_type": "code",
   "execution_count": 37,
   "metadata": {},
   "outputs": [],
   "source": [
    "#4 i (1), (2), (3), (4)"
   ]
  },
  {
   "cell_type": "code",
   "execution_count": 38,
   "metadata": {},
   "outputs": [
    {
     "data": {
      "text/html": [
       "<div>\n",
       "<style scoped>\n",
       "    .dataframe tbody tr th:only-of-type {\n",
       "        vertical-align: middle;\n",
       "    }\n",
       "\n",
       "    .dataframe tbody tr th {\n",
       "        vertical-align: top;\n",
       "    }\n",
       "\n",
       "    .dataframe thead th {\n",
       "        text-align: right;\n",
       "    }\n",
       "</style>\n",
       "<table border=\"1\" class=\"dataframe\">\n",
       "  <thead>\n",
       "    <tr style=\"text-align: right;\">\n",
       "      <th></th>\n",
       "      <th>Mean of the integrated profile</th>\n",
       "      <th>Standard deviation of the integrated profile</th>\n",
       "      <th>Excess kurtosis of the integrated profile</th>\n",
       "      <th>Skewness of the integrated profile</th>\n",
       "      <th>Mean of the DM-SNR curve</th>\n",
       "      <th>Standard deviation of the DM-SNR curve</th>\n",
       "      <th>Excess kurtosis of the DM-SNR curve</th>\n",
       "      <th>Skewness of the DM-SNR curve</th>\n",
       "      <th>target_class</th>\n",
       "    </tr>\n",
       "  </thead>\n",
       "  <tbody>\n",
       "    <tr>\n",
       "      <th>0</th>\n",
       "      <td>140.562500</td>\n",
       "      <td>55.683782</td>\n",
       "      <td>-0.234571</td>\n",
       "      <td>-0.699648</td>\n",
       "      <td>3.199833</td>\n",
       "      <td>19.110426</td>\n",
       "      <td>7.975532</td>\n",
       "      <td>74.242225</td>\n",
       "      <td>0</td>\n",
       "    </tr>\n",
       "    <tr>\n",
       "      <th>1</th>\n",
       "      <td>102.507812</td>\n",
       "      <td>58.882430</td>\n",
       "      <td>0.465318</td>\n",
       "      <td>-0.515088</td>\n",
       "      <td>1.677258</td>\n",
       "      <td>14.860146</td>\n",
       "      <td>10.576487</td>\n",
       "      <td>127.393580</td>\n",
       "      <td>0</td>\n",
       "    </tr>\n",
       "    <tr>\n",
       "      <th>2</th>\n",
       "      <td>103.015625</td>\n",
       "      <td>39.341649</td>\n",
       "      <td>0.323328</td>\n",
       "      <td>1.051164</td>\n",
       "      <td>3.121237</td>\n",
       "      <td>21.744669</td>\n",
       "      <td>7.735822</td>\n",
       "      <td>63.171909</td>\n",
       "      <td>0</td>\n",
       "    </tr>\n",
       "    <tr>\n",
       "      <th>3</th>\n",
       "      <td>136.750000</td>\n",
       "      <td>57.178449</td>\n",
       "      <td>-0.068415</td>\n",
       "      <td>-0.636238</td>\n",
       "      <td>3.642977</td>\n",
       "      <td>20.959280</td>\n",
       "      <td>6.896499</td>\n",
       "      <td>53.593661</td>\n",
       "      <td>0</td>\n",
       "    </tr>\n",
       "    <tr>\n",
       "      <th>4</th>\n",
       "      <td>88.726562</td>\n",
       "      <td>40.672225</td>\n",
       "      <td>0.600866</td>\n",
       "      <td>1.123492</td>\n",
       "      <td>1.178930</td>\n",
       "      <td>11.468720</td>\n",
       "      <td>14.269573</td>\n",
       "      <td>252.567306</td>\n",
       "      <td>0</td>\n",
       "    </tr>\n",
       "  </tbody>\n",
       "</table>\n",
       "</div>"
      ],
      "text/plain": [
       "    Mean of the integrated profile  \\\n",
       "0                       140.562500   \n",
       "1                       102.507812   \n",
       "2                       103.015625   \n",
       "3                       136.750000   \n",
       "4                        88.726562   \n",
       "\n",
       "    Standard deviation of the integrated profile  \\\n",
       "0                                      55.683782   \n",
       "1                                      58.882430   \n",
       "2                                      39.341649   \n",
       "3                                      57.178449   \n",
       "4                                      40.672225   \n",
       "\n",
       "    Excess kurtosis of the integrated profile  \\\n",
       "0                                   -0.234571   \n",
       "1                                    0.465318   \n",
       "2                                    0.323328   \n",
       "3                                   -0.068415   \n",
       "4                                    0.600866   \n",
       "\n",
       "    Skewness of the integrated profile   Mean of the DM-SNR curve  \\\n",
       "0                            -0.699648                   3.199833   \n",
       "1                            -0.515088                   1.677258   \n",
       "2                             1.051164                   3.121237   \n",
       "3                            -0.636238                   3.642977   \n",
       "4                             1.123492                   1.178930   \n",
       "\n",
       "    Standard deviation of the DM-SNR curve  \\\n",
       "0                                19.110426   \n",
       "1                                14.860146   \n",
       "2                                21.744669   \n",
       "3                                20.959280   \n",
       "4                                11.468720   \n",
       "\n",
       "    Excess kurtosis of the DM-SNR curve   Skewness of the DM-SNR curve  \\\n",
       "0                              7.975532                      74.242225   \n",
       "1                             10.576487                     127.393580   \n",
       "2                              7.735822                      63.171909   \n",
       "3                              6.896499                      53.593661   \n",
       "4                             14.269573                     252.567306   \n",
       "\n",
       "   target_class  \n",
       "0             0  \n",
       "1             0  \n",
       "2             0  \n",
       "3             0  \n",
       "4             0  "
      ]
     },
     "execution_count": 38,
     "metadata": {},
     "output_type": "execute_result"
    }
   ],
   "source": [
    "data.head()"
   ]
  },
  {
   "cell_type": "markdown",
   "metadata": {},
   "source": [
    "# PCA"
   ]
  },
  {
   "cell_type": "markdown",
   "metadata": {},
   "source": [
    "### split the dataframe into X and y values"
   ]
  },
  {
   "cell_type": "code",
   "execution_count": 39,
   "metadata": {},
   "outputs": [],
   "source": [
    "y = data.iloc[:,8]\n",
    "x = data.iloc[:,0:8]"
   ]
  },
  {
   "cell_type": "markdown",
   "metadata": {},
   "source": [
    "### Standardizing the features, mean = 0, std = 1"
   ]
  },
  {
   "cell_type": "code",
   "execution_count": 40,
   "metadata": {},
   "outputs": [],
   "source": [
    "from sklearn.preprocessing import StandardScaler\n",
    "ss = StandardScaler()\n",
    "X_std = ss.fit_transform(x)"
   ]
  },
  {
   "cell_type": "code",
   "execution_count": 41,
   "metadata": {},
   "outputs": [
    {
     "data": {
      "text/html": [
       "<div>\n",
       "<style scoped>\n",
       "    .dataframe tbody tr th:only-of-type {\n",
       "        vertical-align: middle;\n",
       "    }\n",
       "\n",
       "    .dataframe tbody tr th {\n",
       "        vertical-align: top;\n",
       "    }\n",
       "\n",
       "    .dataframe thead th {\n",
       "        text-align: right;\n",
       "    }\n",
       "</style>\n",
       "<table border=\"1\" class=\"dataframe\">\n",
       "  <thead>\n",
       "    <tr style=\"text-align: right;\">\n",
       "      <th></th>\n",
       "      <th>Mean of the integrated profile</th>\n",
       "      <th>Standard deviation of the integrated profile</th>\n",
       "      <th>Excess kurtosis of the integrated profile</th>\n",
       "      <th>Skewness of the integrated profile</th>\n",
       "      <th>Mean of the DM-SNR curve</th>\n",
       "      <th>Standard deviation of the DM-SNR curve</th>\n",
       "      <th>Excess kurtosis of the DM-SNR curve</th>\n",
       "      <th>Skewness of the DM-SNR curve</th>\n",
       "    </tr>\n",
       "  </thead>\n",
       "  <tbody>\n",
       "    <tr>\n",
       "      <th>0</th>\n",
       "      <td>140.562500</td>\n",
       "      <td>55.683782</td>\n",
       "      <td>-0.234571</td>\n",
       "      <td>-0.699648</td>\n",
       "      <td>3.199833</td>\n",
       "      <td>19.110426</td>\n",
       "      <td>7.975532</td>\n",
       "      <td>74.242225</td>\n",
       "    </tr>\n",
       "    <tr>\n",
       "      <th>1</th>\n",
       "      <td>102.507812</td>\n",
       "      <td>58.882430</td>\n",
       "      <td>0.465318</td>\n",
       "      <td>-0.515088</td>\n",
       "      <td>1.677258</td>\n",
       "      <td>14.860146</td>\n",
       "      <td>10.576487</td>\n",
       "      <td>127.393580</td>\n",
       "    </tr>\n",
       "    <tr>\n",
       "      <th>2</th>\n",
       "      <td>103.015625</td>\n",
       "      <td>39.341649</td>\n",
       "      <td>0.323328</td>\n",
       "      <td>1.051164</td>\n",
       "      <td>3.121237</td>\n",
       "      <td>21.744669</td>\n",
       "      <td>7.735822</td>\n",
       "      <td>63.171909</td>\n",
       "    </tr>\n",
       "    <tr>\n",
       "      <th>3</th>\n",
       "      <td>136.750000</td>\n",
       "      <td>57.178449</td>\n",
       "      <td>-0.068415</td>\n",
       "      <td>-0.636238</td>\n",
       "      <td>3.642977</td>\n",
       "      <td>20.959280</td>\n",
       "      <td>6.896499</td>\n",
       "      <td>53.593661</td>\n",
       "    </tr>\n",
       "    <tr>\n",
       "      <th>4</th>\n",
       "      <td>88.726562</td>\n",
       "      <td>40.672225</td>\n",
       "      <td>0.600866</td>\n",
       "      <td>1.123492</td>\n",
       "      <td>1.178930</td>\n",
       "      <td>11.468720</td>\n",
       "      <td>14.269573</td>\n",
       "      <td>252.567306</td>\n",
       "    </tr>\n",
       "  </tbody>\n",
       "</table>\n",
       "</div>"
      ],
      "text/plain": [
       "    Mean of the integrated profile  \\\n",
       "0                       140.562500   \n",
       "1                       102.507812   \n",
       "2                       103.015625   \n",
       "3                       136.750000   \n",
       "4                        88.726562   \n",
       "\n",
       "    Standard deviation of the integrated profile  \\\n",
       "0                                      55.683782   \n",
       "1                                      58.882430   \n",
       "2                                      39.341649   \n",
       "3                                      57.178449   \n",
       "4                                      40.672225   \n",
       "\n",
       "    Excess kurtosis of the integrated profile  \\\n",
       "0                                   -0.234571   \n",
       "1                                    0.465318   \n",
       "2                                    0.323328   \n",
       "3                                   -0.068415   \n",
       "4                                    0.600866   \n",
       "\n",
       "    Skewness of the integrated profile   Mean of the DM-SNR curve  \\\n",
       "0                            -0.699648                   3.199833   \n",
       "1                            -0.515088                   1.677258   \n",
       "2                             1.051164                   3.121237   \n",
       "3                            -0.636238                   3.642977   \n",
       "4                             1.123492                   1.178930   \n",
       "\n",
       "    Standard deviation of the DM-SNR curve  \\\n",
       "0                                19.110426   \n",
       "1                                14.860146   \n",
       "2                                21.744669   \n",
       "3                                20.959280   \n",
       "4                                11.468720   \n",
       "\n",
       "    Excess kurtosis of the DM-SNR curve   Skewness of the DM-SNR curve  \n",
       "0                              7.975532                      74.242225  \n",
       "1                             10.576487                     127.393580  \n",
       "2                              7.735822                      63.171909  \n",
       "3                              6.896499                      53.593661  \n",
       "4                             14.269573                     252.567306  "
      ]
     },
     "execution_count": 41,
     "metadata": {},
     "output_type": "execute_result"
    }
   ],
   "source": [
    "# x\n",
    "x.head()"
   ]
  },
  {
   "cell_type": "code",
   "execution_count": 42,
   "metadata": {},
   "outputs": [
    {
     "data": {
      "text/plain": [
       "0    0\n",
       "1    0\n",
       "2    0\n",
       "3    0\n",
       "4    0\n",
       "Name: target_class, dtype: int64"
      ]
     },
     "execution_count": 42,
     "metadata": {},
     "output_type": "execute_result"
    }
   ],
   "source": [
    "# y\n",
    "y.head()"
   ]
  },
  {
   "cell_type": "code",
   "execution_count": 43,
   "metadata": {},
   "outputs": [
    {
     "data": {
      "text/html": [
       "<div>\n",
       "<style scoped>\n",
       "    .dataframe tbody tr th:only-of-type {\n",
       "        vertical-align: middle;\n",
       "    }\n",
       "\n",
       "    .dataframe tbody tr th {\n",
       "        vertical-align: top;\n",
       "    }\n",
       "\n",
       "    .dataframe thead th {\n",
       "        text-align: right;\n",
       "    }\n",
       "</style>\n",
       "<table border=\"1\" class=\"dataframe\">\n",
       "  <thead>\n",
       "    <tr style=\"text-align: right;\">\n",
       "      <th></th>\n",
       "      <th>0</th>\n",
       "      <th>1</th>\n",
       "      <th>2</th>\n",
       "      <th>3</th>\n",
       "      <th>4</th>\n",
       "      <th>5</th>\n",
       "      <th>6</th>\n",
       "      <th>7</th>\n",
       "    </tr>\n",
       "  </thead>\n",
       "  <tbody>\n",
       "    <tr>\n",
       "      <th>0</th>\n",
       "      <td>1.149317</td>\n",
       "      <td>1.334832</td>\n",
       "      <td>-0.669570</td>\n",
       "      <td>-0.400459</td>\n",
       "      <td>-0.319440</td>\n",
       "      <td>-0.370625</td>\n",
       "      <td>-0.072798</td>\n",
       "      <td>-0.287438</td>\n",
       "    </tr>\n",
       "    <tr>\n",
       "      <th>1</th>\n",
       "      <td>-0.334168</td>\n",
       "      <td>1.802265</td>\n",
       "      <td>-0.011785</td>\n",
       "      <td>-0.370535</td>\n",
       "      <td>-0.371102</td>\n",
       "      <td>-0.588924</td>\n",
       "      <td>0.504427</td>\n",
       "      <td>0.211581</td>\n",
       "    </tr>\n",
       "    <tr>\n",
       "      <th>2</th>\n",
       "      <td>-0.314372</td>\n",
       "      <td>-1.053322</td>\n",
       "      <td>-0.145233</td>\n",
       "      <td>-0.116593</td>\n",
       "      <td>-0.322107</td>\n",
       "      <td>-0.235328</td>\n",
       "      <td>-0.125996</td>\n",
       "      <td>-0.391373</td>\n",
       "    </tr>\n",
       "    <tr>\n",
       "      <th>3</th>\n",
       "      <td>1.000694</td>\n",
       "      <td>1.553254</td>\n",
       "      <td>-0.513409</td>\n",
       "      <td>-0.390178</td>\n",
       "      <td>-0.304404</td>\n",
       "      <td>-0.275666</td>\n",
       "      <td>-0.312265</td>\n",
       "      <td>-0.481300</td>\n",
       "    </tr>\n",
       "    <tr>\n",
       "      <th>4</th>\n",
       "      <td>-0.871402</td>\n",
       "      <td>-0.858879</td>\n",
       "      <td>0.115609</td>\n",
       "      <td>-0.104866</td>\n",
       "      <td>-0.388010</td>\n",
       "      <td>-0.763111</td>\n",
       "      <td>1.324026</td>\n",
       "      <td>1.386794</td>\n",
       "    </tr>\n",
       "  </tbody>\n",
       "</table>\n",
       "</div>"
      ],
      "text/plain": [
       "          0         1         2         3         4         5         6  \\\n",
       "0  1.149317  1.334832 -0.669570 -0.400459 -0.319440 -0.370625 -0.072798   \n",
       "1 -0.334168  1.802265 -0.011785 -0.370535 -0.371102 -0.588924  0.504427   \n",
       "2 -0.314372 -1.053322 -0.145233 -0.116593 -0.322107 -0.235328 -0.125996   \n",
       "3  1.000694  1.553254 -0.513409 -0.390178 -0.304404 -0.275666 -0.312265   \n",
       "4 -0.871402 -0.858879  0.115609 -0.104866 -0.388010 -0.763111  1.324026   \n",
       "\n",
       "          7  \n",
       "0 -0.287438  \n",
       "1  0.211581  \n",
       "2 -0.391373  \n",
       "3 -0.481300  \n",
       "4  1.386794  "
      ]
     },
     "execution_count": 43,
     "metadata": {},
     "output_type": "execute_result"
    }
   ],
   "source": [
    "# X_std\n",
    "pd.DataFrame(data=X_std).head()"
   ]
  },
  {
   "cell_type": "code",
   "execution_count": 44,
   "metadata": {},
   "outputs": [],
   "source": [
    "from sklearn.decomposition import PCA\n",
    "\n",
    "pca = PCA(n_components=2) # PCA with 2 primary components\n",
    "\n",
    "# fit and transform both PCA models\n",
    "X_pca = pca.fit_transform(X_std)"
   ]
  },
  {
   "cell_type": "code",
   "execution_count": 45,
   "metadata": {},
   "outputs": [
    {
     "data": {
      "text/html": [
       "<div>\n",
       "<style scoped>\n",
       "    .dataframe tbody tr th:only-of-type {\n",
       "        vertical-align: middle;\n",
       "    }\n",
       "\n",
       "    .dataframe tbody tr th {\n",
       "        vertical-align: top;\n",
       "    }\n",
       "\n",
       "    .dataframe thead th {\n",
       "        text-align: right;\n",
       "    }\n",
       "</style>\n",
       "<table border=\"1\" class=\"dataframe\">\n",
       "  <thead>\n",
       "    <tr style=\"text-align: right;\">\n",
       "      <th></th>\n",
       "      <th>0</th>\n",
       "      <th>1</th>\n",
       "    </tr>\n",
       "  </thead>\n",
       "  <tbody>\n",
       "    <tr>\n",
       "      <th>0</th>\n",
       "      <td>-1.278849</td>\n",
       "      <td>-1.273133</td>\n",
       "    </tr>\n",
       "    <tr>\n",
       "      <th>1</th>\n",
       "      <td>-1.020553</td>\n",
       "      <td>-0.201162</td>\n",
       "    </tr>\n",
       "    <tr>\n",
       "      <th>2</th>\n",
       "      <td>0.188289</td>\n",
       "      <td>0.432114</td>\n",
       "    </tr>\n",
       "    <tr>\n",
       "      <th>3</th>\n",
       "      <td>-1.015466</td>\n",
       "      <td>-1.469881</td>\n",
       "    </tr>\n",
       "    <tr>\n",
       "      <th>4</th>\n",
       "      <td>-0.822626</td>\n",
       "      <td>2.123651</td>\n",
       "    </tr>\n",
       "  </tbody>\n",
       "</table>\n",
       "</div>"
      ],
      "text/plain": [
       "          0         1\n",
       "0 -1.278849 -1.273133\n",
       "1 -1.020553 -0.201162\n",
       "2  0.188289  0.432114\n",
       "3 -1.015466 -1.469881\n",
       "4 -0.822626  2.123651"
      ]
     },
     "execution_count": 45,
     "metadata": {},
     "output_type": "execute_result"
    }
   ],
   "source": [
    "# X_pca\n",
    "pd.DataFrame(data=X_pca).head()"
   ]
  },
  {
   "cell_type": "markdown",
   "metadata": {},
   "source": [
    "### PCA visualization without target values"
   ]
  },
  {
   "cell_type": "code",
   "execution_count": 46,
   "metadata": {},
   "outputs": [
    {
     "data": {
      "image/png": "[encoded data removed]",
      "text/plain": [
       "<Figure size 432x288 with 1 Axes>"
      ]
     },
     "metadata": {
      "needs_background": "light"
     },
     "output_type": "display_data"
    }
   ],
   "source": [
    "plt.scatter(X_pca.T[0], X_pca.T[1], alpha=0.75, c='blue')\n",
    "plt.xlabel('PC1')\n",
    "plt.ylabel('PC2')\n",
    "plt.show()"
   ]
  },
  {
   "cell_type": "markdown",
   "metadata": {},
   "source": [
    "### PCA visualization with target values"
   ]
  },
  {
   "cell_type": "code",
   "execution_count": 47,
   "metadata": {},
   "outputs": [
    {
     "data": {
      "text/html": [
       "<div>\n",
       "<style scoped>\n",
       "    .dataframe tbody tr th:only-of-type {\n",
       "        vertical-align: middle;\n",
       "    }\n",
       "\n",
       "    .dataframe tbody tr th {\n",
       "        vertical-align: top;\n",
       "    }\n",
       "\n",
       "    .dataframe thead th {\n",
       "        text-align: right;\n",
       "    }\n",
       "</style>\n",
       "<table border=\"1\" class=\"dataframe\">\n",
       "  <thead>\n",
       "    <tr style=\"text-align: right;\">\n",
       "      <th></th>\n",
       "      <th>Principal Component 1</th>\n",
       "      <th>Principal Component 2</th>\n",
       "      <th>target_class</th>\n",
       "    </tr>\n",
       "  </thead>\n",
       "  <tbody>\n",
       "    <tr>\n",
       "      <th>0</th>\n",
       "      <td>-27.191086</td>\n",
       "      <td>-29.677875</td>\n",
       "      <td>0</td>\n",
       "    </tr>\n",
       "    <tr>\n",
       "      <th>1</th>\n",
       "      <td>24.476215</td>\n",
       "      <td>-6.024175</td>\n",
       "      <td>0</td>\n",
       "    </tr>\n",
       "    <tr>\n",
       "      <th>2</th>\n",
       "      <td>-39.938920</td>\n",
       "      <td>-10.828048</td>\n",
       "      <td>0</td>\n",
       "    </tr>\n",
       "    <tr>\n",
       "      <th>3</th>\n",
       "      <td>-48.000825</td>\n",
       "      <td>-29.833257</td>\n",
       "      <td>0</td>\n",
       "    </tr>\n",
       "    <tr>\n",
       "      <th>4</th>\n",
       "      <td>147.919433</td>\n",
       "      <td>18.562548</td>\n",
       "      <td>0</td>\n",
       "    </tr>\n",
       "  </tbody>\n",
       "</table>\n",
       "</div>"
      ],
      "text/plain": [
       "   Principal Component 1  Principal Component 2  target_class\n",
       "0             -27.191086             -29.677875             0\n",
       "1              24.476215              -6.024175             0\n",
       "2             -39.938920             -10.828048             0\n",
       "3             -48.000825             -29.833257             0\n",
       "4             147.919433              18.562548             0"
      ]
     },
     "execution_count": 47,
     "metadata": {},
     "output_type": "execute_result"
    }
   ],
   "source": [
    "from sklearn.decomposition import PCA\n",
    "pca = PCA(n_components=2)\n",
    "principalComponents = pca.fit_transform(X)\n",
    "principalDf = pd.DataFrame(data = principalComponents\n",
    "             , columns = ['Principal Component 1', 'Principal Component 2'])\n",
    "\n",
    "final_df = pd.concat([principalDf, y], axis = 1)\n",
    "\n",
    "final_df.head()"
   ]
  },
  {
   "cell_type": "code",
   "execution_count": 48,
   "metadata": {},
   "outputs": [
    {
     "data": {
      "image/png": "[encoded data removed]",
      "text/plain": [
       "<Figure size 576x576 with 1 Axes>"
      ]
     },
     "metadata": {
      "needs_background": "light"
     },
     "output_type": "display_data"
    }
   ],
   "source": [
    "fig = plt.figure(figsize = (8,8))\n",
    "ax = fig.add_subplot(1,1,1) \n",
    "ax.set_xlabel('Principal Component 1', fontsize = 15)\n",
    "ax.set_ylabel('Principal Component 2', fontsize = 15)\n",
    "ax.set_title('2 component PCA', fontsize = 20)\n",
    "targets = [0, 1]\n",
    "colors = ['r', 'g']\n",
    "for target, color in zip(targets,colors):\n",
    "    indicesToKeep = y == target\n",
    "    ax.scatter(final_df.loc[indicesToKeep, 'Principal Component 1']\n",
    "               , final_df.loc[indicesToKeep, 'Principal Component 2']\n",
    "               , c = color\n",
    "               , s = 50)\n",
    "ax.legend(targets)\n",
    "ax.grid()"
   ]
  },
  {
   "cell_type": "markdown",
   "metadata": {},
   "source": [
    "# K-Means\n",
    "## Partitioning-based clustering"
   ]
  },
  {
   "cell_type": "code",
   "execution_count": 49,
   "metadata": {},
   "outputs": [
    {
     "data": {
      "image/png": "[encoded data removed]",
      "text/plain": [
       "<Figure size 432x288 with 1 Axes>"
      ]
     },
     "metadata": {
      "needs_background": "light"
     },
     "output_type": "display_data"
    }
   ],
   "source": [
    "from sklearn.cluster import KMeans\n",
    "\n",
    "distortions = [] # sum of squared error within the each cluster\n",
    "for i in range(1, 11):\n",
    "    km = KMeans(n_clusters=i,\n",
    "               init='k-means++',\n",
    "               n_init=10,\n",
    "               max_iter=300,\n",
    "               random_state=0)\n",
    "    km.fit(X_std)\n",
    "    distortions.append(km.inertia_)\n",
    "\n",
    "plt.plot(range(1,11), distortions, marker='o', alpha=0.75)\n",
    "plt.xlabel('Number of clusters')\n",
    "plt.ylabel('Distortions')\n",
    "plt.show()"
   ]
  },
  {
   "cell_type": "code",
   "execution_count": 50,
   "metadata": {},
   "outputs": [],
   "source": [
    "# the ideal situation is the “elbow” where the plot makes a sharp turn, thus indicating a good approximation for the optimal number of clusters to choose."
   ]
  },
  {
   "cell_type": "markdown",
   "metadata": {},
   "source": [
    "### Due to these results, we will choose 4 clusters"
   ]
  },
  {
   "cell_type": "code",
   "execution_count": 51,
   "metadata": {},
   "outputs": [],
   "source": [
    "km = KMeans(n_clusters=4,\n",
    "           init='k-means++',\n",
    "           n_init=10,\n",
    "           max_iter=300,\n",
    "           tol=1e-04,\n",
    "           random_state=0)\n",
    "\n",
    "y_km = km.fit_predict(X_pca)"
   ]
  },
  {
   "cell_type": "code",
   "execution_count": 52,
   "metadata": {},
   "outputs": [
    {
     "data": {
      "image/png": "[encoded data removed]",
      "text/plain": [
       "<Figure size 432x288 with 1 Axes>"
      ]
     },
     "metadata": {
      "needs_background": "light"
     },
     "output_type": "display_data"
    }
   ],
   "source": [
    "plt.scatter(X_pca[y_km==0, 0],\n",
    "           X_pca[y_km==0, 1],\n",
    "           c='lightgreen',\n",
    "           label='Cluster 1')\n",
    "plt.scatter(X_pca[y_km==1, 0],\n",
    "           X_pca[y_km==1, 1],\n",
    "           c='orange',\n",
    "           label='Cluster 2')\n",
    "plt.scatter(X_pca[y_km==2, 0],\n",
    "           X_pca[y_km==2, 1],\n",
    "           c='lightblue',\n",
    "           label='Cluster 3')\n",
    "plt.scatter(X_pca[y_km==3, 0],\n",
    "           X_pca[y_km==3, 1],\n",
    "           c='red',\n",
    "           label='Cluster 4')\n",
    "plt.scatter(km.cluster_centers_[:,0],\n",
    "           km.cluster_centers_[:,1],\n",
    "           s=85,\n",
    "           alpha=0.75,\n",
    "           marker='o',\n",
    "           c='black',\n",
    "           label='Centroids')\n",
    "\n",
    "plt.legend(loc='best')\n",
    "plt.xlabel('PC1')\n",
    "plt.ylabel('PC2')\n",
    "plt.show()"
   ]
  },
  {
   "cell_type": "markdown",
   "metadata": {},
   "source": [
    "### External Clustering Evaluation - comparing to ground truth"
   ]
  },
  {
   "cell_type": "code",
   "execution_count": 53,
   "metadata": {},
   "outputs": [
    {
     "name": "stdout",
     "output_type": "stream",
     "text": [
      "[[5263 1300 9680   16]\n",
      " [  93  312  247  987]\n",
      " [   0    0    0    0]\n",
      " [   0    0    0    0]]\n",
      "31.0\n",
      "              precision    recall  f1-score   support\n",
      "\n",
      "           0       0.98      0.32      0.49     16259\n",
      "           1       0.19      0.19      0.19      1639\n",
      "           2       0.00      0.00      0.00         0\n",
      "           3       0.00      0.00      0.00         0\n",
      "\n",
      "    accuracy                           0.31     17898\n",
      "   macro avg       0.29      0.13      0.17     17898\n",
      "weighted avg       0.91      0.31      0.46     17898\n",
      "\n"
     ]
    }
   ],
   "source": [
    "import warnings\n",
    "warnings.filterwarnings('ignore')\n",
    "\n",
    "print(confusion_matrix(y, y_km ))\n",
    "print(round(accuracy_score(y, y_km),2)*100)\n",
    "print(classification_report(y, y_km))"
   ]
  },
  {
   "cell_type": "markdown",
   "metadata": {},
   "source": [
    "# DB Scan\n",
    "## Density-based clustering"
   ]
  },
  {
   "cell_type": "code",
   "execution_count": 54,
   "metadata": {},
   "outputs": [],
   "source": [
    "import numpy as np\n",
    "from sklearn.datasets.samples_generator import make_blobs\n",
    "from sklearn.neighbors import NearestNeighbors\n",
    "from sklearn.cluster import DBSCAN\n",
    "from matplotlib import pyplot as plt\n",
    "import seaborn as sns\n",
    "sns.set()"
   ]
  },
  {
   "cell_type": "code",
   "execution_count": 55,
   "metadata": {},
   "outputs": [],
   "source": [
    "neigh = NearestNeighbors(n_neighbors=2)\n",
    "nbrs = neigh.fit(X_pca)\n",
    "distances, indices = nbrs.kneighbors(X_pca)"
   ]
  },
  {
   "cell_type": "code",
   "execution_count": 56,
   "metadata": {},
   "outputs": [
    {
     "data": {
      "text/plain": [
       "[<matplotlib.lines.Line2D at 0x7f02ea050950>]"
      ]
     },
     "execution_count": 56,
     "metadata": {},
     "output_type": "execute_result"
    },
    {
     "data": {
      "image/png": "[encoded data removed]",
      "text/plain": [
       "<Figure size 432x288 with 1 Axes>"
      ]
     },
     "metadata": {},
     "output_type": "display_data"
    }
   ],
   "source": [
    "distances = np.sort(distances, axis=0)\n",
    "distances = distances[:,1]\n",
    "plt.plot(distances)"
   ]
  },
  {
   "cell_type": "code",
   "execution_count": 57,
   "metadata": {},
   "outputs": [],
   "source": [
    "# The optimal value for epsilon will be found at the point of maximum curvature."
   ]
  },
  {
   "cell_type": "markdown",
   "metadata": {},
   "source": [
    "### Due to these results, we will choose eps = 0.2"
   ]
  },
  {
   "cell_type": "code",
   "execution_count": 58,
   "metadata": {},
   "outputs": [],
   "source": [
    "from sklearn.cluster import DBSCAN\n",
    "dbs = DBSCAN(eps=0.2, min_samples=20)\n",
    "y_dbs = dbs.fit_predict(X_pca)"
   ]
  },
  {
   "cell_type": "code",
   "execution_count": 59,
   "metadata": {},
   "outputs": [],
   "source": [
    "clusters = dbs.labels_"
   ]
  },
  {
   "cell_type": "code",
   "execution_count": 60,
   "metadata": {},
   "outputs": [
    {
     "name": "stdout",
     "output_type": "stream",
     "text": [
      "Estimated number of clusters: 4\n",
      "Estimated number of noise points: 2403\n"
     ]
    }
   ],
   "source": [
    "n_clusters_ = len(set(clusters)) - (1 if -1 in clusters else 0)\n",
    "n_noise_ = list(clusters).count(-1)\n",
    "\n",
    "print('Estimated number of clusters: %d' % n_clusters_)\n",
    "print('Estimated number of noise points: %d' % n_noise_)"
   ]
  },
  {
   "cell_type": "code",
   "execution_count": 61,
   "metadata": {},
   "outputs": [
    {
     "name": "stdout",
     "output_type": "stream",
     "text": [
      "[15096   347    25    27]\n"
     ]
    }
   ],
   "source": [
    "counts = np.bincount(clusters[clusters>=0])\n",
    "print(counts)"
   ]
  },
  {
   "cell_type": "code",
   "execution_count": 62,
   "metadata": {},
   "outputs": [
    {
     "data": {
      "image/png": "[encoded data removed]",
      "text/plain": [
       "<Figure size 432x288 with 1 Axes>"
      ]
     },
     "metadata": {},
     "output_type": "display_data"
    }
   ],
   "source": [
    "plt.scatter(X_pca[y_dbs==-1, 0],\n",
    "           X_pca[y_dbs==-1, 1],\n",
    "           c='lightgreen',\n",
    "           label='Cluster 1')\n",
    "plt.scatter(X_pca[y_dbs==0, 0],\n",
    "           X_pca[y_dbs==0, 1],\n",
    "           c='orange',\n",
    "           label='Cluster 2')\n",
    "plt.scatter(X_pca[y_dbs==1, 0],\n",
    "           X_pca[y_dbs==1, 1],\n",
    "           c='lightblue',\n",
    "           label='Cluster 3')\n",
    "plt.scatter(X_pca[y_dbs==2, 0],\n",
    "           X_pca[y_dbs==2, 1],\n",
    "           c='yellow',\n",
    "           label='Cluster 4')\n",
    "\n",
    "plt.legend(loc='best')\n",
    "plt.xlabel('PC1')\n",
    "plt.ylabel('PC2')\n",
    "plt.show()"
   ]
  },
  {
   "cell_type": "markdown",
   "metadata": {},
   "source": [
    "### External Clustering Evaluation - comparing to ground truth"
   ]
  },
  {
   "cell_type": "code",
   "execution_count": 63,
   "metadata": {},
   "outputs": [
    {
     "name": "stdout",
     "output_type": "stream",
     "text": [
      "[[    0     0     0     0     0]\n",
      " [ 1023 14844   343    22    27]\n",
      " [ 1380   252     4     3     0]\n",
      " [    0     0     0     0     0]\n",
      " [    0     0     0     0     0]]\n",
      "83.0\n",
      "              precision    recall  f1-score   support\n",
      "\n",
      "          -1       0.00      0.00      0.00         0\n",
      "           0       0.98      0.91      0.95     16259\n",
      "           1       0.01      0.00      0.00      1639\n",
      "           2       0.00      0.00      0.00         0\n",
      "           3       0.00      0.00      0.00         0\n",
      "\n",
      "    accuracy                           0.83     17898\n",
      "   macro avg       0.20      0.18      0.19     17898\n",
      "weighted avg       0.89      0.83      0.86     17898\n",
      "\n"
     ]
    }
   ],
   "source": [
    "import warnings\n",
    "warnings.filterwarnings('ignore')\n",
    "\n",
    "print(confusion_matrix(y, y_dbs ))\n",
    "print(round(accuracy_score(y, y_dbs),2)*100)\n",
    "print(classification_report(y, y_dbs))"
   ]
  },
  {
   "cell_type": "markdown",
   "metadata": {},
   "source": [
    "### As can be seen while comparing two clustering methods results - db scan results are better than k-means for this dataset!"
   ]
  },
  {
   "cell_type": "code",
   "execution_count": null,
   "metadata": {},
   "outputs": [],
   "source": []
  }
 ],
 "metadata": {
  "celltoolbar": "Raw Cell Format",
  "kernelspec": {
   "display_name": "Python 3",
   "language": "python",
   "name": "python3"
  },
  "language_info": {
   "codemirror_mode": {
    "name": "ipython",
    "version": 3
   },
   "file_extension": ".py",
   "mimetype": "text/x-python",
   "name": "python",
   "nbconvert_exporter": "python",
   "pygments_lexer": "ipython3",
   "version": "3.7.6"
  }
 },
 "nbformat": 4,
 "nbformat_minor": 4
}
